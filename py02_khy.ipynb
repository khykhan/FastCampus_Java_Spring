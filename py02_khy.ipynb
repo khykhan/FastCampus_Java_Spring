{
  "cells": [
    {
      "cell_type": "markdown",
      "metadata": {
        "id": "view-in-github",
        "colab_type": "text"
      },
      "source": [
        "<a href=\"https://colab.research.google.com/github/khykhan/FastCampus_Java_Spring/blob/master/py02_khy.ipynb\" target=\"_parent\"><img src=\"https://colab.research.google.com/assets/colab-badge.svg\" alt=\"Open In Colab\"/></a>"
      ]
    },
    {
      "cell_type": "markdown",
      "id": "f589ae39",
      "metadata": {
        "id": "f589ae39"
      },
      "source": [
        "# 데이터 타입 : 문자열"
      ]
    },
    {
      "cell_type": "code",
      "execution_count": null,
      "id": "75f7931f",
      "metadata": {
        "id": "75f7931f",
        "outputId": "b0cca48d-c864-4a85-ed33-95d2a3f19cdf"
      },
      "outputs": [
        {
          "name": "stdout",
          "output_type": "stream",
          "text": [
            "Hello, Python\n"
          ]
        }
      ],
      "source": [
        "print (\"Hello, Python\")"
      ]
    },
    {
      "cell_type": "code",
      "execution_count": null,
      "id": "03d9e825",
      "metadata": {
        "id": "03d9e825",
        "outputId": "46e3b06e-7ba0-42d5-e7bb-d5dcf9a10ef8"
      },
      "outputs": [
        {
          "name": "stdout",
          "output_type": "stream",
          "text": [
            "Hello, Python\n"
          ]
        }
      ],
      "source": [
        "print ('Hello, Python')"
      ]
    },
    {
      "cell_type": "code",
      "execution_count": null,
      "id": "26762b10",
      "metadata": {
        "id": "26762b10",
        "outputId": "84009b5b-d407-4d6a-fac1-a95c0ce9e56b"
      },
      "outputs": [
        {
          "data": {
            "text/plain": [
              "'Hello, Python'"
            ]
          },
          "execution_count": 3,
          "metadata": {},
          "output_type": "execute_result"
        }
      ],
      "source": [
        "\"Hello, Python\""
      ]
    },
    {
      "cell_type": "code",
      "execution_count": null,
      "id": "f5d0a9af",
      "metadata": {
        "id": "f5d0a9af",
        "outputId": "9b8cd231-8f83-4669-ee94-0c1d399f82c3"
      },
      "outputs": [
        {
          "data": {
            "text/plain": [
              "'Hello, Python'"
            ]
          },
          "execution_count": 4,
          "metadata": {},
          "output_type": "execute_result"
        }
      ],
      "source": [
        "'Hello, Python'"
      ]
    },
    {
      "cell_type": "code",
      "execution_count": null,
      "id": "623c4dba",
      "metadata": {
        "id": "623c4dba",
        "outputId": "3afb34bc-3438-4085-905b-6838d6562e5a"
      },
      "outputs": [
        {
          "data": {
            "text/plain": [
              "'Heloo, Python'"
            ]
          },
          "execution_count": 5,
          "metadata": {},
          "output_type": "execute_result"
        }
      ],
      "source": [
        "\"\"\"Heloo, Python\"\"\""
      ]
    },
    {
      "cell_type": "code",
      "execution_count": null,
      "id": "4487514e",
      "metadata": {
        "id": "4487514e",
        "outputId": "6399135d-0e19-4dbc-e35b-c99ce9e299f8"
      },
      "outputs": [
        {
          "data": {
            "text/plain": [
              "'Hello, Python'"
            ]
          },
          "execution_count": 6,
          "metadata": {},
          "output_type": "execute_result"
        }
      ],
      "source": [
        "\"\"'Hello, Python'\"\""
      ]
    },
    {
      "cell_type": "code",
      "execution_count": null,
      "id": "4ac59481",
      "metadata": {
        "id": "4ac59481",
        "outputId": "1ef4dedc-f141-4986-9ece-bcf54a6d2223"
      },
      "outputs": [
        {
          "data": {
            "text/plain": [
              "\"'Hello, Python'\""
            ]
          },
          "execution_count": 7,
          "metadata": {},
          "output_type": "execute_result"
        }
      ],
      "source": [
        "\"'Hello, Python'\""
      ]
    },
    {
      "cell_type": "code",
      "execution_count": null,
      "id": "f53dc290",
      "metadata": {
        "id": "f53dc290",
        "outputId": "9384dece-e0d2-45d3-e558-454fc2b39fea"
      },
      "outputs": [
        {
          "data": {
            "text/plain": [
              "'\"Hello, Python\"'"
            ]
          },
          "execution_count": 8,
          "metadata": {},
          "output_type": "execute_result"
        }
      ],
      "source": [
        "'\"Hello, Python\"'"
      ]
    },
    {
      "cell_type": "code",
      "execution_count": null,
      "id": "35600dce",
      "metadata": {
        "id": "35600dce",
        "outputId": "a2b3b02e-4e3f-4f16-a814-e73a13a0b271"
      },
      "outputs": [
        {
          "data": {
            "text/plain": [
              "\"He doesn't like that\""
            ]
          },
          "execution_count": 9,
          "metadata": {},
          "output_type": "execute_result"
        }
      ],
      "source": [
        "\"He doesn't like that\""
      ]
    },
    {
      "cell_type": "code",
      "execution_count": null,
      "id": "2a3b50b7",
      "metadata": {
        "id": "2a3b50b7",
        "outputId": "ff0af0e2-527d-46fd-fbee-054c14e57b7d"
      },
      "outputs": [
        {
          "data": {
            "text/plain": [
              "\"He doesn/'t like this\""
            ]
          },
          "execution_count": 11,
          "metadata": {},
          "output_type": "execute_result"
        }
      ],
      "source": [
        "\"He doesn/'t like this\""
      ]
    },
    {
      "cell_type": "code",
      "execution_count": null,
      "id": "61dc9803",
      "metadata": {
        "id": "61dc9803",
        "outputId": "41062425-647d-4ff3-9e0c-b3f55f2fe7e4"
      },
      "outputs": [
        {
          "data": {
            "text/plain": [
              "'He said \"Help me!\"'"
            ]
          },
          "execution_count": 12,
          "metadata": {},
          "output_type": "execute_result"
        }
      ],
      "source": [
        "'He said \"Help me!\"'"
      ]
    },
    {
      "cell_type": "code",
      "execution_count": null,
      "id": "6b0f9a35",
      "metadata": {
        "id": "6b0f9a35",
        "outputId": "3492cf67-a092-4b6c-93d8-ea2674cb4458"
      },
      "outputs": [
        {
          "name": "stdout",
          "output_type": "stream",
          "text": [
            "He said \n",
            " \"Help me!\"\n"
          ]
        }
      ],
      "source": [
        "print ('He said \\n \"Help me!\"')"
      ]
    },
    {
      "cell_type": "code",
      "execution_count": null,
      "id": "9504dabc",
      "metadata": {
        "id": "9504dabc",
        "outputId": "43444bb3-a85a-4861-a1b0-34e7cd408dc0"
      },
      "outputs": [
        {
          "name": "stdout",
          "output_type": "stream",
          "text": [
            "He said\n",
            " \"Help me!\"\n"
          ]
        }
      ],
      "source": [
        "print ('He said\\n \"Help me!\"')"
      ]
    },
    {
      "cell_type": "code",
      "execution_count": null,
      "id": "e44af76e",
      "metadata": {
        "id": "e44af76e",
        "outputId": "1de58c76-092b-45f8-ca4b-8de18b63e759"
      },
      "outputs": [
        {
          "name": "stdout",
          "output_type": "stream",
          "text": [
            "He said \t \"Help me!\"\n"
          ]
        }
      ],
      "source": [
        "print ('He said \\t \"Help me!\"')"
      ]
    },
    {
      "cell_type": "code",
      "execution_count": null,
      "id": "1513c0a3",
      "metadata": {
        "id": "1513c0a3",
        "outputId": "d9548e63-bfed-44f1-b822-3997229b4377"
      },
      "outputs": [
        {
          "name": "stdout",
          "output_type": "stream",
          "text": [
            "He said \r",
            " \"Help me!\"\n"
          ]
        }
      ],
      "source": [
        "print ('He said \\r \"Help me!\"')"
      ]
    },
    {
      "cell_type": "code",
      "execution_count": null,
      "id": "5856f4ea",
      "metadata": {
        "id": "5856f4ea",
        "outputId": "a3ec8af5-8975-4e14-d1e4-2676a003fb25"
      },
      "outputs": [
        {
          "name": "stdout",
          "output_type": "stream",
          "text": [
            "He said \u0007 \"Help me!\"\n"
          ]
        }
      ],
      "source": [
        "print ('He said \\a \"Help me!\"')"
      ]
    },
    {
      "cell_type": "code",
      "execution_count": null,
      "id": "9f3df6bf",
      "metadata": {
        "id": "9f3df6bf",
        "outputId": "98442766-3c9f-4086-8ad7-5a6a6449f3af"
      },
      "outputs": [
        {
          "name": "stdout",
          "output_type": "stream",
          "text": [
            "He said \b \"Help me!\"\n"
          ]
        }
      ],
      "source": [
        "print ('He said \\b \"Help me!\"')"
      ]
    },
    {
      "cell_type": "code",
      "execution_count": null,
      "id": "795b74c4",
      "metadata": {
        "id": "795b74c4",
        "outputId": "a2e267d8-74fb-4fd4-f182-d7a0670c664d"
      },
      "outputs": [
        {
          "name": "stdout",
          "output_type": "stream",
          "text": [
            "He said \u0000 \"Help me!\"\n"
          ]
        }
      ],
      "source": [
        "print ('He said \\000 \"Help me!\"')"
      ]
    },
    {
      "cell_type": "code",
      "execution_count": null,
      "id": "a440e72c",
      "metadata": {
        "id": "a440e72c",
        "outputId": "aa71187c-9e41-49bd-ef2e-3a13d3e33af9"
      },
      "outputs": [
        {
          "name": "stdout",
          "output_type": "stream",
          "text": [
            "He said \\ \"Help me!\"\n"
          ]
        }
      ],
      "source": [
        "print ('He said \\\\ \"Help me!\"')"
      ]
    },
    {
      "cell_type": "code",
      "execution_count": null,
      "id": "77d07f16",
      "metadata": {
        "id": "77d07f16",
        "outputId": "ed20090c-6467-40b5-8cb6-854159fb6de2"
      },
      "outputs": [
        {
          "name": "stdout",
          "output_type": "stream",
          "text": [
            "He said \\ \"Help me!\"\n"
          ]
        }
      ],
      "source": [
        "print ('He said \\\\ \"Help me!\"')"
      ]
    },
    {
      "cell_type": "code",
      "execution_count": null,
      "id": "5217621a",
      "metadata": {
        "id": "5217621a",
        "outputId": "40b45ad7-fd62-4ff5-b0ba-8dee7c47a2cf"
      },
      "outputs": [
        {
          "name": "stdout",
          "output_type": "stream",
          "text": [
            "파인애 \r",
            " 사과\n"
          ]
        }
      ],
      "source": [
        "print ('파인애 \\r 사과')"
      ]
    },
    {
      "cell_type": "code",
      "execution_count": null,
      "id": "ee683361",
      "metadata": {
        "id": "ee683361",
        "outputId": "0eb749bc-a70e-464f-cf29-c893f69b5142"
      },
      "outputs": [
        {
          "name": "stdout",
          "output_type": "stream",
          "text": [
            "파인애플 \r",
            " 사과\n"
          ]
        }
      ],
      "source": [
        "print ('파인애플 \\r 사과')     # 버그인듯 합니다. 플이 붙네요."
      ]
    },
    {
      "cell_type": "code",
      "execution_count": null,
      "id": "26633529",
      "metadata": {
        "id": "26633529",
        "outputId": "07443bd8-91ab-4f2f-d1b0-e37afa431462"
      },
      "outputs": [
        {
          "name": "stdout",
          "output_type": "stream",
          "text": [
            "파인애플 \n",
            " 사과\n"
          ]
        }
      ],
      "source": [
        "print ('파인애플 \\n 사과')"
      ]
    },
    {
      "cell_type": "code",
      "execution_count": null,
      "id": "30bd9fcc",
      "metadata": {
        "id": "30bd9fcc",
        "outputId": "2b551905-0989-4808-a1ee-7112c671ee5f"
      },
      "outputs": [
        {
          "name": "stdout",
          "output_type": "stream",
          "text": [
            "파인애플 \n",
            " \r",
            "사과\n"
          ]
        }
      ],
      "source": [
        "print ('파인애플 \\n \\r사과')"
      ]
    },
    {
      "cell_type": "code",
      "execution_count": null,
      "id": "4ad46077",
      "metadata": {
        "id": "4ad46077",
        "outputId": "f9e81fcd-df78-4bda-a058-1cfcb154b28a"
      },
      "outputs": [
        {
          "name": "stdout",
          "output_type": "stream",
          "text": [
            "파인애플 \n",
            " \r",
            " 사과\n"
          ]
        }
      ],
      "source": [
        "print ('파인애플 \\n \\r 사과')"
      ]
    },
    {
      "cell_type": "code",
      "execution_count": null,
      "id": "63f5d2d8",
      "metadata": {
        "id": "63f5d2d8",
        "outputId": "2172893a-aa39-4a7f-f417-21b152f84e0d"
      },
      "outputs": [
        {
          "name": "stdout",
          "output_type": "stream",
          "text": [
            "파인애플 \r",
            "사과\n"
          ]
        }
      ],
      "source": [
        "print ('파인애플 \\r사과')"
      ]
    },
    {
      "cell_type": "code",
      "execution_count": null,
      "id": "771aca4b",
      "metadata": {
        "id": "771aca4b",
        "outputId": "47fdca47-92cd-433f-b680-07cd7dacea38"
      },
      "outputs": [
        {
          "name": "stdout",
          "output_type": "stream",
          "text": [
            "파인애플 \r",
            " 사과\n"
          ]
        }
      ],
      "source": [
        "print ('파인애플 \\r 사과')"
      ]
    },
    {
      "cell_type": "code",
      "execution_count": null,
      "id": "bc230150",
      "metadata": {
        "id": "bc230150",
        "outputId": "46953b21-2349-487b-d420-a6016da93562"
      },
      "outputs": [
        {
          "name": "stdout",
          "output_type": "stream",
          "text": [
            "파인애플 \r",
            "  사과\n"
          ]
        }
      ],
      "source": [
        "print ('파인애플 \\r  사과')"
      ]
    },
    {
      "cell_type": "markdown",
      "id": "bc175075",
      "metadata": {
        "id": "bc175075"
      },
      "source": [
        "# 데이터 타입 : 리스트"
      ]
    },
    {
      "cell_type": "code",
      "execution_count": null,
      "id": "fbc0c887",
      "metadata": {
        "id": "fbc0c887"
      },
      "outputs": [],
      "source": [
        "a=[7, [3.14, True], \"Hello Python\", '안녕, 파이썬', 3+5j, [False, True]]"
      ]
    },
    {
      "cell_type": "code",
      "execution_count": null,
      "id": "a82a319e",
      "metadata": {
        "id": "a82a319e"
      },
      "outputs": [],
      "source": [
        "a=[7, [3.14, True], \"Hello Python\", '안녕, 파이썬', 3+5j, [False, True]]"
      ]
    },
    {
      "cell_type": "code",
      "execution_count": null,
      "id": "dc3217d9",
      "metadata": {
        "id": "dc3217d9",
        "outputId": "9422a751-4b9b-41cc-9642-9a021bdb8c86"
      },
      "outputs": [
        {
          "data": {
            "text/plain": [
              "list"
            ]
          },
          "execution_count": 44,
          "metadata": {},
          "output_type": "execute_result"
        }
      ],
      "source": [
        "type(a)"
      ]
    },
    {
      "cell_type": "code",
      "execution_count": null,
      "id": "774e1f1d",
      "metadata": {
        "id": "774e1f1d",
        "outputId": "2137885b-20a5-4a45-af7e-f59b728b597a"
      },
      "outputs": [
        {
          "data": {
            "text/plain": [
              "6"
            ]
          },
          "execution_count": 45,
          "metadata": {},
          "output_type": "execute_result"
        }
      ],
      "source": [
        "len(a)"
      ]
    },
    {
      "cell_type": "code",
      "execution_count": null,
      "id": "acf86900",
      "metadata": {
        "id": "acf86900",
        "outputId": "0de55f47-8ba9-460a-9313-7abee8e77a4c"
      },
      "outputs": [
        {
          "data": {
            "text/plain": [
              "[False, True]"
            ]
          },
          "execution_count": 46,
          "metadata": {},
          "output_type": "execute_result"
        }
      ],
      "source": [
        "a[-1]"
      ]
    },
    {
      "cell_type": "code",
      "execution_count": null,
      "id": "a7f5215d",
      "metadata": {
        "id": "a7f5215d",
        "outputId": "b1febd0d-c16e-44fd-cc62-60b9e9243233"
      },
      "outputs": [
        {
          "data": {
            "text/plain": [
              "'Hello Python'"
            ]
          },
          "execution_count": 47,
          "metadata": {},
          "output_type": "execute_result"
        }
      ],
      "source": [
        "a[-4]"
      ]
    },
    {
      "cell_type": "code",
      "execution_count": null,
      "id": "813d0e9e",
      "metadata": {
        "id": "813d0e9e",
        "outputId": "e1035434-8e37-40d5-e2b2-f7f39d058124"
      },
      "outputs": [
        {
          "data": {
            "text/plain": [
              "7"
            ]
          },
          "execution_count": 48,
          "metadata": {},
          "output_type": "execute_result"
        }
      ],
      "source": [
        "a[0]"
      ]
    },
    {
      "cell_type": "code",
      "execution_count": null,
      "id": "13556749",
      "metadata": {
        "id": "13556749",
        "outputId": "16995e78-691f-441f-b4a2-5a19416fdca4"
      },
      "outputs": [
        {
          "data": {
            "text/plain": [
              "[3.14, True]"
            ]
          },
          "execution_count": 49,
          "metadata": {},
          "output_type": "execute_result"
        }
      ],
      "source": [
        "a[1]"
      ]
    },
    {
      "cell_type": "code",
      "execution_count": null,
      "id": "304f9230",
      "metadata": {
        "id": "304f9230",
        "outputId": "38025a8a-211d-4fdb-af8c-52c1e8565fb3"
      },
      "outputs": [
        {
          "data": {
            "text/plain": [
              "[[3.14, True]]"
            ]
          },
          "execution_count": 51,
          "metadata": {},
          "output_type": "execute_result"
        }
      ],
      "source": [
        "a[1:2]"
      ]
    },
    {
      "cell_type": "code",
      "execution_count": null,
      "id": "c2d4b1d5",
      "metadata": {
        "id": "c2d4b1d5",
        "outputId": "d88975f9-092b-47d2-d71f-e08b4f69bb01"
      },
      "outputs": [
        {
          "data": {
            "text/plain": [
              "[7, [3.14, True]]"
            ]
          },
          "execution_count": 52,
          "metadata": {},
          "output_type": "execute_result"
        }
      ],
      "source": [
        "a[0:2]"
      ]
    },
    {
      "cell_type": "code",
      "execution_count": null,
      "id": "60ff400e",
      "metadata": {
        "id": "60ff400e",
        "outputId": "39bf9348-b015-4f3d-ea5a-bd7e228eaaf4"
      },
      "outputs": [
        {
          "data": {
            "text/plain": [
              "[[3.14, True], 'Hello Python']"
            ]
          },
          "execution_count": 53,
          "metadata": {},
          "output_type": "execute_result"
        }
      ],
      "source": [
        "a[1:3]"
      ]
    },
    {
      "cell_type": "code",
      "execution_count": null,
      "id": "9c32ed2a",
      "metadata": {
        "id": "9c32ed2a",
        "outputId": "cb903469-f089-422e-a207-6a08ce2b96ff"
      },
      "outputs": [
        {
          "data": {
            "text/plain": [
              "list"
            ]
          },
          "execution_count": 54,
          "metadata": {},
          "output_type": "execute_result"
        }
      ],
      "source": [
        "type(a[5])"
      ]
    },
    {
      "cell_type": "code",
      "execution_count": null,
      "id": "f10337fb",
      "metadata": {
        "id": "f10337fb",
        "outputId": "1495bddc-0b5a-46c7-b3af-67704919dba6"
      },
      "outputs": [
        {
          "data": {
            "text/plain": [
              "complex"
            ]
          },
          "execution_count": 55,
          "metadata": {},
          "output_type": "execute_result"
        }
      ],
      "source": [
        "type(a[4])"
      ]
    },
    {
      "cell_type": "code",
      "execution_count": null,
      "id": "279e0bc7",
      "metadata": {
        "id": "279e0bc7",
        "outputId": "234f2252-9597-4ee2-f4bc-68e8c85b3f2b"
      },
      "outputs": [
        {
          "data": {
            "text/plain": [
              "(3+5j)"
            ]
          },
          "execution_count": 56,
          "metadata": {},
          "output_type": "execute_result"
        }
      ],
      "source": [
        "a[4]"
      ]
    },
    {
      "cell_type": "code",
      "execution_count": null,
      "id": "7bfdfa53",
      "metadata": {
        "id": "7bfdfa53",
        "outputId": "5a6d775e-256c-4ed2-fa14-f902fd8f9f87"
      },
      "outputs": [
        {
          "data": {
            "text/plain": [
              "list"
            ]
          },
          "execution_count": 57,
          "metadata": {},
          "output_type": "execute_result"
        }
      ],
      "source": [
        "type(a[0:3])"
      ]
    },
    {
      "cell_type": "code",
      "execution_count": null,
      "id": "05086864",
      "metadata": {
        "id": "05086864",
        "outputId": "ee165ff0-4b92-4302-873a-6b76a8451f2f"
      },
      "outputs": [
        {
          "data": {
            "text/plain": [
              "list"
            ]
          },
          "execution_count": 58,
          "metadata": {},
          "output_type": "execute_result"
        }
      ],
      "source": [
        "type(a[1:2])"
      ]
    },
    {
      "cell_type": "code",
      "execution_count": null,
      "id": "a0189de6",
      "metadata": {
        "id": "a0189de6",
        "outputId": "e46a4a7b-54fd-433b-9b05-b127c7dd6e7b"
      },
      "outputs": [
        {
          "data": {
            "text/plain": [
              "list"
            ]
          },
          "execution_count": 62,
          "metadata": {},
          "output_type": "execute_result"
        }
      ],
      "source": [
        "type(a[4:5])"
      ]
    },
    {
      "cell_type": "markdown",
      "id": "34cb2971",
      "metadata": {
        "id": "34cb2971"
      },
      "source": [
        "####"
      ]
    },
    {
      "cell_type": "code",
      "execution_count": null,
      "id": "6eb4ea16",
      "metadata": {
        "id": "6eb4ea16",
        "outputId": "bfc37791-8dd6-4a8d-83ad-980214c538d4"
      },
      "outputs": [
        {
          "data": {
            "text/plain": [
              "[(3+5j)]"
            ]
          },
          "execution_count": 61,
          "metadata": {},
          "output_type": "execute_result"
        }
      ],
      "source": [
        "a[4:5]"
      ]
    },
    {
      "cell_type": "code",
      "execution_count": null,
      "id": "2d69f311",
      "metadata": {
        "id": "2d69f311",
        "outputId": "20a82bd3-388c-4632-f7d1-dafd762a7d91"
      },
      "outputs": [
        {
          "data": {
            "text/plain": [
              "(3+5j)"
            ]
          },
          "execution_count": 63,
          "metadata": {},
          "output_type": "execute_result"
        }
      ],
      "source": [
        "a[4]"
      ]
    },
    {
      "cell_type": "code",
      "execution_count": null,
      "id": "0249dc52",
      "metadata": {
        "id": "0249dc52",
        "outputId": "81049398-49af-4a6e-a9cc-3fbbdcb448b5"
      },
      "outputs": [
        {
          "data": {
            "text/plain": [
              "complex"
            ]
          },
          "execution_count": 64,
          "metadata": {},
          "output_type": "execute_result"
        }
      ],
      "source": [
        "type(a[4])"
      ]
    },
    {
      "cell_type": "code",
      "execution_count": null,
      "id": "4d4765d8",
      "metadata": {
        "id": "4d4765d8",
        "outputId": "be61de32-7108-417d-e91e-141c7e390041"
      },
      "outputs": [
        {
          "data": {
            "text/plain": [
              "list"
            ]
          },
          "execution_count": 65,
          "metadata": {},
          "output_type": "execute_result"
        }
      ],
      "source": [
        "type(a[4:5])"
      ]
    },
    {
      "cell_type": "markdown",
      "id": "410c9a2b",
      "metadata": {
        "id": "410c9a2b"
      },
      "source": [
        "# 데이터 타입 : 튜플"
      ]
    },
    {
      "cell_type": "code",
      "execution_count": null,
      "id": "5eeba44c",
      "metadata": {
        "id": "5eeba44c"
      },
      "outputs": [],
      "source": [
        "y=1,2,3"
      ]
    },
    {
      "cell_type": "code",
      "execution_count": null,
      "id": "2d5b23be",
      "metadata": {
        "id": "2d5b23be",
        "outputId": "56bb11aa-12a1-40a9-d59d-a2a9a27f0d27"
      },
      "outputs": [
        {
          "data": {
            "text/plain": [
              "(1, 2, 3)"
            ]
          },
          "execution_count": 67,
          "metadata": {},
          "output_type": "execute_result"
        }
      ],
      "source": [
        "y"
      ]
    },
    {
      "cell_type": "code",
      "execution_count": null,
      "id": "5a9976c2",
      "metadata": {
        "id": "5a9976c2",
        "outputId": "94017c66-e89d-4746-ab61-2dee73eea3ae"
      },
      "outputs": [
        {
          "ename": "TypeError",
          "evalue": "'tuple' object does not support item assignment",
          "output_type": "error",
          "traceback": [
            "\u001b[0;31m---------------------------------------------------------------------------\u001b[0m",
            "\u001b[0;31mTypeError\u001b[0m                                 Traceback (most recent call last)",
            "Cell \u001b[0;32mIn[68], line 1\u001b[0m\n\u001b[0;32m----> 1\u001b[0m y[\u001b[38;5;241m2\u001b[39m]\u001b[38;5;241m=\u001b[39m\u001b[38;5;241m3\u001b[39m\n",
            "\u001b[0;31mTypeError\u001b[0m: 'tuple' object does not support item assignment"
          ]
        }
      ],
      "source": [
        "y[2]=3"
      ]
    },
    {
      "cell_type": "code",
      "execution_count": null,
      "id": "45325ffe",
      "metadata": {
        "id": "45325ffe"
      },
      "outputs": [],
      "source": [
        "x,y,z=1,2,3"
      ]
    },
    {
      "cell_type": "code",
      "execution_count": null,
      "id": "a02a0764",
      "metadata": {
        "id": "a02a0764",
        "outputId": "afeb9d2a-d73e-4571-e98b-e189b3d7b375"
      },
      "outputs": [
        {
          "data": {
            "text/plain": [
              "1"
            ]
          },
          "execution_count": 71,
          "metadata": {},
          "output_type": "execute_result"
        }
      ],
      "source": [
        "x"
      ]
    },
    {
      "cell_type": "code",
      "execution_count": null,
      "id": "d3eba4f3",
      "metadata": {
        "id": "d3eba4f3",
        "outputId": "7b56ff92-8da0-4932-db86-6354826ec4a3"
      },
      "outputs": [
        {
          "data": {
            "text/plain": [
              "3"
            ]
          },
          "execution_count": 72,
          "metadata": {},
          "output_type": "execute_result"
        }
      ],
      "source": [
        "y"
      ]
    },
    {
      "cell_type": "code",
      "execution_count": null,
      "id": "3046914d",
      "metadata": {
        "id": "3046914d",
        "outputId": "5582dbe6-4a49-4642-f235-71c93b48f855"
      },
      "outputs": [
        {
          "data": {
            "text/plain": [
              "3"
            ]
          },
          "execution_count": 73,
          "metadata": {},
          "output_type": "execute_result"
        }
      ],
      "source": [
        "z"
      ]
    },
    {
      "cell_type": "code",
      "execution_count": null,
      "id": "43af8047",
      "metadata": {
        "id": "43af8047"
      },
      "outputs": [],
      "source": [
        "y=3"
      ]
    },
    {
      "cell_type": "code",
      "execution_count": null,
      "id": "b0d03cd3",
      "metadata": {
        "id": "b0d03cd3",
        "outputId": "565b32eb-f90e-4fc8-f619-3f96cf25e95b"
      },
      "outputs": [
        {
          "data": {
            "text/plain": [
              "3"
            ]
          },
          "execution_count": 74,
          "metadata": {},
          "output_type": "execute_result"
        }
      ],
      "source": [
        "y"
      ]
    },
    {
      "cell_type": "code",
      "execution_count": null,
      "id": "0a680ffb",
      "metadata": {
        "id": "0a680ffb"
      },
      "outputs": [],
      "source": [
        "x,y=y,x"
      ]
    },
    {
      "cell_type": "code",
      "execution_count": null,
      "id": "de584e61",
      "metadata": {
        "id": "de584e61",
        "outputId": "527054a2-67e6-4b8b-a836-954f11bc1093"
      },
      "outputs": [
        {
          "data": {
            "text/plain": [
              "3"
            ]
          },
          "execution_count": 76,
          "metadata": {},
          "output_type": "execute_result"
        }
      ],
      "source": [
        "x"
      ]
    },
    {
      "cell_type": "code",
      "execution_count": null,
      "id": "76d1edc7",
      "metadata": {
        "id": "76d1edc7",
        "outputId": "26d6b856-a787-45ac-f9d2-a492d97e87b8"
      },
      "outputs": [
        {
          "data": {
            "text/plain": [
              "1"
            ]
          },
          "execution_count": 77,
          "metadata": {},
          "output_type": "execute_result"
        }
      ],
      "source": [
        "y"
      ]
    },
    {
      "cell_type": "code",
      "execution_count": null,
      "id": "086eeac6",
      "metadata": {
        "id": "086eeac6",
        "outputId": "4c4a3fd6-fbbc-4ef9-a252-3514aa0f79b3"
      },
      "outputs": [
        {
          "data": {
            "text/plain": [
              "(3, 1, 3)"
            ]
          },
          "execution_count": 78,
          "metadata": {},
          "output_type": "execute_result"
        }
      ],
      "source": [
        "x,y,z"
      ]
    },
    {
      "cell_type": "markdown",
      "id": "54b47175",
      "metadata": {
        "id": "54b47175"
      },
      "source": [
        "# 데이터 타입 : 사전"
      ]
    },
    {
      "cell_type": "code",
      "execution_count": null,
      "id": "d2e938da",
      "metadata": {
        "id": "d2e938da"
      },
      "outputs": [],
      "source": [
        "dict1={1: 327901, '이름': '박김', 'pi값': 3.14}"
      ]
    },
    {
      "cell_type": "code",
      "execution_count": null,
      "id": "f4a51dc5",
      "metadata": {
        "id": "f4a51dc5",
        "outputId": "8805ecde-2812-4d06-fc8b-ac381816e7d0"
      },
      "outputs": [
        {
          "data": {
            "text/plain": [
              "{1: 327901, '이름': '박김', 'pi값': 3.14}"
            ]
          },
          "execution_count": 82,
          "metadata": {},
          "output_type": "execute_result"
        }
      ],
      "source": [
        "dict1"
      ]
    },
    {
      "cell_type": "code",
      "execution_count": null,
      "id": "640e23ed",
      "metadata": {
        "id": "640e23ed",
        "outputId": "e8fd2de2-e783-4b5a-e179-19cf1576238b"
      },
      "outputs": [
        {
          "data": {
            "text/plain": [
              "327901"
            ]
          },
          "execution_count": 83,
          "metadata": {},
          "output_type": "execute_result"
        }
      ],
      "source": [
        "dict1[1]"
      ]
    },
    {
      "cell_type": "code",
      "execution_count": null,
      "id": "32d64023",
      "metadata": {
        "id": "32d64023",
        "outputId": "b3137d35-2f9d-4c08-8c2c-9b6282f06959"
      },
      "outputs": [
        {
          "data": {
            "text/plain": [
              "(327901, '박김', 3.14)"
            ]
          },
          "execution_count": 86,
          "metadata": {},
          "output_type": "execute_result"
        }
      ],
      "source": [
        "dict1[1], dict1[\"이름\"], dict1[\"pi값\"]"
      ]
    },
    {
      "cell_type": "code",
      "execution_count": null,
      "id": "600b7aed",
      "metadata": {
        "id": "600b7aed",
        "outputId": "f51637fe-a6ff-4d93-a394-4a2a114aae0f"
      },
      "outputs": [
        {
          "data": {
            "text/plain": [
              "(327901, '박김', 3.14)"
            ]
          },
          "execution_count": 88,
          "metadata": {},
          "output_type": "execute_result"
        }
      ],
      "source": [
        "dict1[1], dict1['이름'], dict1['pi값']"
      ]
    },
    {
      "cell_type": "markdown",
      "id": "24447956",
      "metadata": {
        "id": "24447956"
      },
      "source": [
        "# 데이터 타입 : 집합, None, 타입변환"
      ]
    },
    {
      "cell_type": "code",
      "execution_count": null,
      "id": "75832bef",
      "metadata": {
        "id": "75832bef"
      },
      "outputs": [],
      "source": [
        "x=None"
      ]
    },
    {
      "cell_type": "code",
      "execution_count": null,
      "id": "5cbbfdfe",
      "metadata": {
        "id": "5cbbfdfe"
      },
      "outputs": [],
      "source": [
        "x"
      ]
    },
    {
      "cell_type": "code",
      "execution_count": null,
      "id": "398a394b",
      "metadata": {
        "id": "398a394b"
      },
      "outputs": [],
      "source": [
        "A={1,2,3,4,5}\n",
        "B={3,4,5,6,7}"
      ]
    },
    {
      "cell_type": "code",
      "execution_count": null,
      "id": "c7013d8c",
      "metadata": {
        "id": "c7013d8c",
        "outputId": "fef2fe1f-9ed5-4d87-aedf-a627ef98e4a2"
      },
      "outputs": [
        {
          "ename": "TypeError",
          "evalue": "unsupported operand type(s) for &: 'list' and 'set'",
          "output_type": "error",
          "traceback": [
            "\u001b[0;31m---------------------------------------------------------------------------\u001b[0m",
            "\u001b[0;31mTypeError\u001b[0m                                 Traceback (most recent call last)",
            "Cell \u001b[0;32mIn[95], line 1\u001b[0m\n\u001b[0;32m----> 1\u001b[0m a\u001b[38;5;241m&\u001b[39mb\n",
            "\u001b[0;31mTypeError\u001b[0m: unsupported operand type(s) for &: 'list' and 'set'"
          ]
        }
      ],
      "source": [
        "a&b"
      ]
    },
    {
      "cell_type": "code",
      "execution_count": null,
      "id": "70e0cf72",
      "metadata": {
        "id": "70e0cf72",
        "outputId": "dbde2840-0af6-495d-b764-2e05854a10e3"
      },
      "outputs": [
        {
          "data": {
            "text/plain": [
              "{3, 4, 5}"
            ]
          },
          "execution_count": 96,
          "metadata": {},
          "output_type": "execute_result"
        }
      ],
      "source": [
        "A&B"
      ]
    },
    {
      "cell_type": "code",
      "execution_count": null,
      "id": "13f7f3fa",
      "metadata": {
        "id": "13f7f3fa",
        "outputId": "09fb8e8c-7bbc-4788-a5c0-90ea8412b35d"
      },
      "outputs": [
        {
          "data": {
            "text/plain": [
              "{1, 2}"
            ]
          },
          "execution_count": 97,
          "metadata": {},
          "output_type": "execute_result"
        }
      ],
      "source": [
        "A-B"
      ]
    },
    {
      "cell_type": "code",
      "execution_count": null,
      "id": "2ef43b8a",
      "metadata": {
        "id": "2ef43b8a",
        "outputId": "00842bd7-e6e9-400f-f2b2-a2021e58ef17"
      },
      "outputs": [
        {
          "data": {
            "text/plain": [
              "{1, 2, 6, 7}"
            ]
          },
          "execution_count": 98,
          "metadata": {},
          "output_type": "execute_result"
        }
      ],
      "source": [
        "A^B"
      ]
    },
    {
      "cell_type": "markdown",
      "id": "18416875",
      "metadata": {
        "id": "18416875"
      },
      "source": [
        "# 컨테이너 데이터 특징"
      ]
    },
    {
      "cell_type": "code",
      "execution_count": null,
      "id": "09a76efd",
      "metadata": {
        "id": "09a76efd",
        "outputId": "a6a5343a-b0ab-475a-ac89-8fb318efaa4b"
      },
      "outputs": [
        {
          "data": {
            "text/plain": [
              "['d', 'b', 'a']"
            ]
          },
          "execution_count": 108,
          "metadata": {},
          "output_type": "execute_result"
        }
      ],
      "source": [
        "a=['a','b','d']\n",
        "a.reverse(); a"
      ]
    },
    {
      "cell_type": "code",
      "execution_count": null,
      "id": "ab99f6b6",
      "metadata": {
        "id": "ab99f6b6",
        "outputId": "f6f26b95-2876-4d4b-872d-7f0b5b61c464"
      },
      "outputs": [
        {
          "data": {
            "text/plain": [
              "['a', 'b', 'd']"
            ]
          },
          "execution_count": 109,
          "metadata": {},
          "output_type": "execute_result"
        }
      ],
      "source": [
        "a.reverse(); a"
      ]
    },
    {
      "cell_type": "code",
      "execution_count": null,
      "id": "ecf6cbac",
      "metadata": {
        "id": "ecf6cbac",
        "outputId": "2fda1559-232d-468c-a911-0e9fcccee7b3"
      },
      "outputs": [
        {
          "data": {
            "text/plain": [
              "['a', 'd']"
            ]
          },
          "execution_count": 110,
          "metadata": {},
          "output_type": "execute_result"
        }
      ],
      "source": [
        "a.remove('b'); a"
      ]
    },
    {
      "cell_type": "code",
      "execution_count": null,
      "id": "70a557b7",
      "metadata": {
        "id": "70a557b7",
        "outputId": "9ee5c458-a0de-453e-a7bb-418295d4d0c8"
      },
      "outputs": [
        {
          "data": {
            "text/plain": [
              "['a', 'd']"
            ]
          },
          "execution_count": 117,
          "metadata": {},
          "output_type": "execute_result"
        }
      ],
      "source": [
        "a.count('b'); a"
      ]
    },
    {
      "cell_type": "code",
      "execution_count": null,
      "id": "67581aa6",
      "metadata": {
        "id": "67581aa6",
        "outputId": "c040e93e-8721-4a33-cd9a-705b9cdfe384"
      },
      "outputs": [
        {
          "data": {
            "text/plain": [
              "['a', 'd']"
            ]
          },
          "execution_count": 112,
          "metadata": {},
          "output_type": "execute_result"
        }
      ],
      "source": [
        "a.count('a'); a"
      ]
    },
    {
      "cell_type": "code",
      "execution_count": null,
      "id": "ffc1baeb",
      "metadata": {
        "id": "ffc1baeb",
        "outputId": "f89ebfcf-5769-4027-a363-c8a793a9f706"
      },
      "outputs": [
        {
          "data": {
            "text/plain": [
              "['a', 'd']"
            ]
          },
          "execution_count": 114,
          "metadata": {},
          "output_type": "execute_result"
        }
      ],
      "source": [
        "a.count(\"a\"); a"
      ]
    },
    {
      "cell_type": "code",
      "execution_count": null,
      "id": "85809049",
      "metadata": {
        "id": "85809049",
        "outputId": "f216bae0-32ab-493e-f2b8-8af5a5980cfc"
      },
      "outputs": [
        {
          "data": {
            "text/plain": [
              "1"
            ]
          },
          "execution_count": 118,
          "metadata": {},
          "output_type": "execute_result"
        }
      ],
      "source": [
        "a.count('a')"
      ]
    },
    {
      "cell_type": "code",
      "execution_count": null,
      "id": "66d2b2ee",
      "metadata": {
        "id": "66d2b2ee",
        "outputId": "f2a10f6f-fe05-4847-819e-6d4e6aec0ca0"
      },
      "outputs": [
        {
          "data": {
            "text/plain": [
              "0"
            ]
          },
          "execution_count": 119,
          "metadata": {},
          "output_type": "execute_result"
        }
      ],
      "source": [
        "a.count('b')"
      ]
    },
    {
      "cell_type": "code",
      "execution_count": null,
      "id": "dba5e1f9",
      "metadata": {
        "id": "dba5e1f9",
        "outputId": "f423f2dc-3217-476a-9804-c7c186e67f73"
      },
      "outputs": [
        {
          "ename": "TypeError",
          "evalue": "list.count() takes exactly one argument (2 given)",
          "output_type": "error",
          "traceback": [
            "\u001b[0;31m---------------------------------------------------------------------------\u001b[0m",
            "\u001b[0;31mTypeError\u001b[0m                                 Traceback (most recent call last)",
            "Cell \u001b[0;32mIn[120], line 1\u001b[0m\n\u001b[0;32m----> 1\u001b[0m a\u001b[38;5;241m.\u001b[39mcount(\u001b[38;5;124m'\u001b[39m\u001b[38;5;124ma\u001b[39m\u001b[38;5;124m'\u001b[39m,\u001b[38;5;124m'\u001b[39m\u001b[38;5;124mb\u001b[39m\u001b[38;5;124m'\u001b[39m)\n",
            "\u001b[0;31mTypeError\u001b[0m: list.count() takes exactly one argument (2 given)"
          ]
        }
      ],
      "source": [
        "a.count('a','b')"
      ]
    },
    {
      "cell_type": "code",
      "execution_count": null,
      "id": "30453a87",
      "metadata": {
        "id": "30453a87",
        "outputId": "86d4b25a-5c10-4a23-d071-306cb3ba84dc"
      },
      "outputs": [
        {
          "data": {
            "text/plain": [
              "['__add__',\n",
              " '__class__',\n",
              " '__class_getitem__',\n",
              " '__contains__',\n",
              " '__delattr__',\n",
              " '__delitem__',\n",
              " '__dir__',\n",
              " '__doc__',\n",
              " '__eq__',\n",
              " '__format__',\n",
              " '__ge__',\n",
              " '__getattribute__',\n",
              " '__getitem__',\n",
              " '__getstate__',\n",
              " '__gt__',\n",
              " '__hash__',\n",
              " '__iadd__',\n",
              " '__imul__',\n",
              " '__init__',\n",
              " '__init_subclass__',\n",
              " '__iter__',\n",
              " '__le__',\n",
              " '__len__',\n",
              " '__lt__',\n",
              " '__mul__',\n",
              " '__ne__',\n",
              " '__new__',\n",
              " '__reduce__',\n",
              " '__reduce_ex__',\n",
              " '__repr__',\n",
              " '__reversed__',\n",
              " '__rmul__',\n",
              " '__setattr__',\n",
              " '__setitem__',\n",
              " '__sizeof__',\n",
              " '__str__',\n",
              " '__subclasshook__',\n",
              " 'append',\n",
              " 'clear',\n",
              " 'copy',\n",
              " 'count',\n",
              " 'extend',\n",
              " 'index',\n",
              " 'insert',\n",
              " 'pop',\n",
              " 'remove',\n",
              " 'reverse',\n",
              " 'sort']"
            ]
          },
          "execution_count": 121,
          "metadata": {},
          "output_type": "execute_result"
        }
      ],
      "source": [
        "dir(a)"
      ]
    },
    {
      "cell_type": "code",
      "execution_count": null,
      "id": "d3140de8",
      "metadata": {
        "id": "d3140de8",
        "outputId": "39560a60-5f59-4fab-dd54-74aaf7f10b30"
      },
      "outputs": [
        {
          "data": {
            "text/plain": [
              "['d', 'a']"
            ]
          },
          "execution_count": 129,
          "metadata": {},
          "output_type": "execute_result"
        }
      ],
      "source": [
        "a.reverse();a"
      ]
    },
    {
      "cell_type": "code",
      "execution_count": null,
      "id": "c97c5a00",
      "metadata": {
        "id": "c97c5a00",
        "outputId": "08eb869c-37bb-4c4f-8f00-30a340e065cb"
      },
      "outputs": [
        {
          "data": {
            "text/plain": [
              "['a', 'd']"
            ]
          },
          "execution_count": 130,
          "metadata": {},
          "output_type": "execute_result"
        }
      ],
      "source": [
        "a.sort(); a"
      ]
    },
    {
      "cell_type": "code",
      "execution_count": null,
      "id": "ac2c5693",
      "metadata": {
        "id": "ac2c5693",
        "outputId": "93e7117f-dd92-4960-a89a-84dcf3952ad2"
      },
      "outputs": [
        {
          "data": {
            "text/plain": [
              "['a', 'd']"
            ]
          },
          "execution_count": 131,
          "metadata": {},
          "output_type": "execute_result"
        }
      ],
      "source": [
        "a.reverse(); a.sort(); a"
      ]
    },
    {
      "cell_type": "code",
      "execution_count": null,
      "id": "8fb16b46",
      "metadata": {
        "id": "8fb16b46",
        "outputId": "69262617-2b1e-46e6-a207-b57ecfc17e7b"
      },
      "outputs": [
        {
          "data": {
            "text/plain": [
              "['d', 'a']"
            ]
          },
          "execution_count": 132,
          "metadata": {},
          "output_type": "execute_result"
        }
      ],
      "source": [
        "a.reverse(); a"
      ]
    },
    {
      "cell_type": "markdown",
      "id": "50dd9b48",
      "metadata": {
        "id": "50dd9b48"
      },
      "source": [
        "# 순차/비순차 데이터 타입"
      ]
    },
    {
      "cell_type": "code",
      "execution_count": null,
      "id": "e6fc1e68",
      "metadata": {
        "id": "e6fc1e68"
      },
      "outputs": [],
      "source": [
        "lst1=[7, [3.14, True], \"Hello Python\", '안녕, 파이썬', 3+5j, [False, True]]"
      ]
    },
    {
      "cell_type": "code",
      "execution_count": null,
      "id": "35292808",
      "metadata": {
        "id": "35292808",
        "outputId": "ea2705e6-80e6-4a1d-8a28-c740703fb160"
      },
      "outputs": [
        {
          "data": {
            "text/plain": [
              "[3.14, True]"
            ]
          },
          "execution_count": 134,
          "metadata": {},
          "output_type": "execute_result"
        }
      ],
      "source": [
        "lst1[1]"
      ]
    },
    {
      "cell_type": "code",
      "execution_count": null,
      "id": "b0de4784",
      "metadata": {
        "id": "b0de4784",
        "outputId": "ef8eeac9-0e60-4244-ae6f-bd8c9bbb8a73"
      },
      "outputs": [
        {
          "data": {
            "text/plain": [
              "(True, 3.14)"
            ]
          },
          "execution_count": 135,
          "metadata": {},
          "output_type": "execute_result"
        }
      ],
      "source": [
        "lst1[1][1], lst1[1][0]"
      ]
    },
    {
      "cell_type": "code",
      "execution_count": null,
      "id": "00ca9a2d",
      "metadata": {
        "id": "00ca9a2d",
        "outputId": "e13b1be9-fb4f-4687-8586-59d94a6de6dd"
      },
      "outputs": [
        {
          "data": {
            "text/plain": [
              "True"
            ]
          },
          "execution_count": 136,
          "metadata": {},
          "output_type": "execute_result"
        }
      ],
      "source": [
        "lst1[1][1]"
      ]
    },
    {
      "cell_type": "code",
      "execution_count": null,
      "id": "4a10264d",
      "metadata": {
        "id": "4a10264d",
        "outputId": "4c45e477-81d1-4abb-ecb6-e659d675da7c"
      },
      "outputs": [
        {
          "data": {
            "text/plain": [
              "3.14"
            ]
          },
          "execution_count": 137,
          "metadata": {},
          "output_type": "execute_result"
        }
      ],
      "source": [
        "lst1[1][0]"
      ]
    },
    {
      "cell_type": "code",
      "execution_count": null,
      "id": "ead2a1a1",
      "metadata": {
        "id": "ead2a1a1",
        "outputId": "aa24277e-2ec3-42f4-d2b8-a8c64ed95343"
      },
      "outputs": [
        {
          "data": {
            "text/plain": [
              "('녕', '안', '파')"
            ]
          },
          "execution_count": 138,
          "metadata": {},
          "output_type": "execute_result"
        }
      ],
      "source": [
        "lst1[3][1], lst1[3][0], lst1[3][4]"
      ]
    },
    {
      "cell_type": "code",
      "execution_count": null,
      "id": "ceffee81",
      "metadata": {
        "id": "ceffee81"
      },
      "outputs": [],
      "source": [
        "set1={'김','이','박'}"
      ]
    },
    {
      "cell_type": "code",
      "execution_count": null,
      "id": "8ead0be9",
      "metadata": {
        "id": "8ead0be9",
        "outputId": "b6939e82-f1fc-4153-b763-1cb552877da5"
      },
      "outputs": [
        {
          "data": {
            "text/plain": [
              "{'김', '박', '이'}"
            ]
          },
          "execution_count": 140,
          "metadata": {},
          "output_type": "execute_result"
        }
      ],
      "source": [
        "set1"
      ]
    },
    {
      "cell_type": "code",
      "execution_count": null,
      "id": "d666edc3",
      "metadata": {
        "id": "d666edc3"
      },
      "outputs": [],
      "source": [
        "set1_iter=iter(set1)"
      ]
    },
    {
      "cell_type": "code",
      "execution_count": null,
      "id": "f3d10d89",
      "metadata": {
        "id": "f3d10d89",
        "outputId": "1295e9e0-e778-4d6e-fb68-ccb7675d7bb5"
      },
      "outputs": [
        {
          "data": {
            "text/plain": [
              "set_iterator"
            ]
          },
          "execution_count": 142,
          "metadata": {},
          "output_type": "execute_result"
        }
      ],
      "source": [
        "type(set1_iter)"
      ]
    },
    {
      "cell_type": "code",
      "execution_count": null,
      "id": "55cc08c5",
      "metadata": {
        "id": "55cc08c5",
        "outputId": "321edd37-6800-48f9-9f17-dbe42283a089"
      },
      "outputs": [
        {
          "data": {
            "text/plain": [
              "<set_iterator at 0x10a027480>"
            ]
          },
          "execution_count": 143,
          "metadata": {},
          "output_type": "execute_result"
        }
      ],
      "source": [
        "set1_iter"
      ]
    },
    {
      "cell_type": "code",
      "execution_count": null,
      "id": "6eb31c2b",
      "metadata": {
        "id": "6eb31c2b",
        "outputId": "a13e91c7-fcc7-4a24-8371-f95eaa09a761"
      },
      "outputs": [
        {
          "data": {
            "text/plain": [
              "<set_iterator at 0x10807e880>"
            ]
          },
          "execution_count": 144,
          "metadata": {},
          "output_type": "execute_result"
        }
      ],
      "source": [
        "iter(set1)"
      ]
    },
    {
      "cell_type": "code",
      "execution_count": null,
      "id": "7cf65194",
      "metadata": {
        "id": "7cf65194",
        "outputId": "bc689b6b-ea37-4688-83d7-6a03419caa34"
      },
      "outputs": [
        {
          "data": {
            "text/plain": [
              "['__class__',\n",
              " '__delattr__',\n",
              " '__dir__',\n",
              " '__doc__',\n",
              " '__eq__',\n",
              " '__format__',\n",
              " '__ge__',\n",
              " '__getattribute__',\n",
              " '__getstate__',\n",
              " '__gt__',\n",
              " '__hash__',\n",
              " '__init__',\n",
              " '__init_subclass__',\n",
              " '__iter__',\n",
              " '__le__',\n",
              " '__length_hint__',\n",
              " '__lt__',\n",
              " '__ne__',\n",
              " '__new__',\n",
              " '__next__',\n",
              " '__reduce__',\n",
              " '__reduce_ex__',\n",
              " '__repr__',\n",
              " '__setattr__',\n",
              " '__sizeof__',\n",
              " '__str__',\n",
              " '__subclasshook__']"
            ]
          },
          "execution_count": 145,
          "metadata": {},
          "output_type": "execute_result"
        }
      ],
      "source": [
        "dir(set1_iter)"
      ]
    },
    {
      "cell_type": "code",
      "execution_count": null,
      "id": "70fc1733",
      "metadata": {
        "id": "70fc1733",
        "outputId": "daf8d157-e5f0-44d6-a401-b33e39473e7a"
      },
      "outputs": [
        {
          "data": {
            "text/plain": [
              "['__and__',\n",
              " '__class__',\n",
              " '__class_getitem__',\n",
              " '__contains__',\n",
              " '__delattr__',\n",
              " '__dir__',\n",
              " '__doc__',\n",
              " '__eq__',\n",
              " '__format__',\n",
              " '__ge__',\n",
              " '__getattribute__',\n",
              " '__getstate__',\n",
              " '__gt__',\n",
              " '__hash__',\n",
              " '__iand__',\n",
              " '__init__',\n",
              " '__init_subclass__',\n",
              " '__ior__',\n",
              " '__isub__',\n",
              " '__iter__',\n",
              " '__ixor__',\n",
              " '__le__',\n",
              " '__len__',\n",
              " '__lt__',\n",
              " '__ne__',\n",
              " '__new__',\n",
              " '__or__',\n",
              " '__rand__',\n",
              " '__reduce__',\n",
              " '__reduce_ex__',\n",
              " '__repr__',\n",
              " '__ror__',\n",
              " '__rsub__',\n",
              " '__rxor__',\n",
              " '__setattr__',\n",
              " '__sizeof__',\n",
              " '__str__',\n",
              " '__sub__',\n",
              " '__subclasshook__',\n",
              " '__xor__',\n",
              " 'add',\n",
              " 'clear',\n",
              " 'copy',\n",
              " 'difference',\n",
              " 'difference_update',\n",
              " 'discard',\n",
              " 'intersection',\n",
              " 'intersection_update',\n",
              " 'isdisjoint',\n",
              " 'issubset',\n",
              " 'issuperset',\n",
              " 'pop',\n",
              " 'remove',\n",
              " 'symmetric_difference',\n",
              " 'symmetric_difference_update',\n",
              " 'union',\n",
              " 'update']"
            ]
          },
          "execution_count": 146,
          "metadata": {},
          "output_type": "execute_result"
        }
      ],
      "source": [
        "dir(set1)"
      ]
    },
    {
      "cell_type": "code",
      "execution_count": null,
      "id": "1dfb581d",
      "metadata": {
        "id": "1dfb581d",
        "outputId": "4cde1694-f6d0-41cc-e264-b9f510db97ef"
      },
      "outputs": [
        {
          "data": {
            "text/plain": [
              "set_iterator"
            ]
          },
          "execution_count": 147,
          "metadata": {},
          "output_type": "execute_result"
        }
      ],
      "source": [
        "type(set1_iter)"
      ]
    },
    {
      "cell_type": "code",
      "execution_count": null,
      "id": "4e651cfb",
      "metadata": {
        "id": "4e651cfb",
        "outputId": "c608afe5-197d-4d90-afc6-8cee7d08c8d0"
      },
      "outputs": [
        {
          "data": {
            "text/plain": [
              "'김'"
            ]
          },
          "execution_count": 148,
          "metadata": {},
          "output_type": "execute_result"
        }
      ],
      "source": [
        "next(set1_iter)"
      ]
    },
    {
      "cell_type": "code",
      "execution_count": null,
      "id": "4b45b9f1",
      "metadata": {
        "id": "4b45b9f1",
        "outputId": "52031d37-14fe-402f-987b-cb3e66e8510c"
      },
      "outputs": [
        {
          "data": {
            "text/plain": [
              "'박'"
            ]
          },
          "execution_count": 149,
          "metadata": {},
          "output_type": "execute_result"
        }
      ],
      "source": [
        "next(set1_iter)"
      ]
    },
    {
      "cell_type": "code",
      "execution_count": null,
      "id": "8f112812",
      "metadata": {
        "id": "8f112812",
        "outputId": "b34c8906-0ae6-4d0b-c486-e0a6f98dd7c4"
      },
      "outputs": [
        {
          "data": {
            "text/plain": [
              "'이'"
            ]
          },
          "execution_count": 150,
          "metadata": {},
          "output_type": "execute_result"
        }
      ],
      "source": [
        "next(set1_iter)"
      ]
    },
    {
      "cell_type": "code",
      "execution_count": null,
      "id": "a332f229",
      "metadata": {
        "id": "a332f229",
        "outputId": "c5dc81f7-9d88-4c17-938e-396b5ce36918"
      },
      "outputs": [
        {
          "ename": "StopIteration",
          "evalue": "",
          "output_type": "error",
          "traceback": [
            "\u001b[0;31m---------------------------------------------------------------------------\u001b[0m",
            "\u001b[0;31mStopIteration\u001b[0m                             Traceback (most recent call last)",
            "Cell \u001b[0;32mIn[151], line 1\u001b[0m\n\u001b[0;32m----> 1\u001b[0m \u001b[38;5;28mnext\u001b[39m(set1_iter)\n",
            "\u001b[0;31mStopIteration\u001b[0m: "
          ]
        }
      ],
      "source": [
        "next(set1_iter)"
      ]
    },
    {
      "cell_type": "code",
      "execution_count": null,
      "id": "cbc7295d",
      "metadata": {
        "id": "cbc7295d",
        "outputId": "5e628123-e15f-4324-8315-4f7ac7e4e855"
      },
      "outputs": [
        {
          "ename": "AttributeError",
          "evalue": "'set_iterator' object has no attribute 'new'",
          "output_type": "error",
          "traceback": [
            "\u001b[0;31m---------------------------------------------------------------------------\u001b[0m",
            "\u001b[0;31mAttributeError\u001b[0m                            Traceback (most recent call last)",
            "Cell \u001b[0;32mIn[153], line 1\u001b[0m\n\u001b[0;32m----> 1\u001b[0m set1_iter\u001b[38;5;241m.\u001b[39mnew(\u001b[38;5;124m'\u001b[39m\u001b[38;5;124m곽\u001b[39m\u001b[38;5;124m'\u001b[39m)\n",
            "\u001b[0;31mAttributeError\u001b[0m: 'set_iterator' object has no attribute 'new'"
          ]
        }
      ],
      "source": [
        "set1_iter.new('곽')"
      ]
    },
    {
      "cell_type": "code",
      "execution_count": null,
      "id": "9b9a0bc8",
      "metadata": {
        "id": "9b9a0bc8",
        "outputId": "2910d113-2f38-49cd-9b8a-d72777fe7b9e"
      },
      "outputs": [
        {
          "ename": "SyntaxError",
          "evalue": "cannot assign to function call here. Maybe you meant '==' instead of '='? (983738674.py, line 1)",
          "output_type": "error",
          "traceback": [
            "\u001b[0;36m  Cell \u001b[0;32mIn[155], line 1\u001b[0;36m\u001b[0m\n\u001b[0;31m    set1.add()={\"곽\"}\u001b[0m\n\u001b[0m    ^\u001b[0m\n\u001b[0;31mSyntaxError\u001b[0m\u001b[0;31m:\u001b[0m cannot assign to function call here. Maybe you meant '==' instead of '='?\n"
          ]
        }
      ],
      "source": [
        "set1.add()={\"곽\"}"
      ]
    },
    {
      "cell_type": "code",
      "execution_count": null,
      "id": "aa2ff750",
      "metadata": {
        "id": "aa2ff750",
        "outputId": "a4ba0a89-e11b-4f88-ddc2-3decef80b06c"
      },
      "outputs": [
        {
          "data": {
            "text/plain": [
              "['__and__',\n",
              " '__class__',\n",
              " '__class_getitem__',\n",
              " '__contains__',\n",
              " '__delattr__',\n",
              " '__dir__',\n",
              " '__doc__',\n",
              " '__eq__',\n",
              " '__format__',\n",
              " '__ge__',\n",
              " '__getattribute__',\n",
              " '__getstate__',\n",
              " '__gt__',\n",
              " '__hash__',\n",
              " '__iand__',\n",
              " '__init__',\n",
              " '__init_subclass__',\n",
              " '__ior__',\n",
              " '__isub__',\n",
              " '__iter__',\n",
              " '__ixor__',\n",
              " '__le__',\n",
              " '__len__',\n",
              " '__lt__',\n",
              " '__ne__',\n",
              " '__new__',\n",
              " '__or__',\n",
              " '__rand__',\n",
              " '__reduce__',\n",
              " '__reduce_ex__',\n",
              " '__repr__',\n",
              " '__ror__',\n",
              " '__rsub__',\n",
              " '__rxor__',\n",
              " '__setattr__',\n",
              " '__sizeof__',\n",
              " '__str__',\n",
              " '__sub__',\n",
              " '__subclasshook__',\n",
              " '__xor__',\n",
              " 'add',\n",
              " 'clear',\n",
              " 'copy',\n",
              " 'difference',\n",
              " 'difference_update',\n",
              " 'discard',\n",
              " 'intersection',\n",
              " 'intersection_update',\n",
              " 'isdisjoint',\n",
              " 'issubset',\n",
              " 'issuperset',\n",
              " 'pop',\n",
              " 'remove',\n",
              " 'symmetric_difference',\n",
              " 'symmetric_difference_update',\n",
              " 'union',\n",
              " 'update']"
            ]
          },
          "execution_count": 158,
          "metadata": {},
          "output_type": "execute_result"
        }
      ],
      "source": [
        "dir(set1)"
      ]
    },
    {
      "cell_type": "code",
      "execution_count": null,
      "id": "40dad051",
      "metadata": {
        "id": "40dad051"
      },
      "outputs": [],
      "source": [
        "set1.add(\"곽\")"
      ]
    },
    {
      "cell_type": "code",
      "execution_count": null,
      "id": "9f9b7546",
      "metadata": {
        "id": "9f9b7546",
        "outputId": "f1a2476f-24ed-425d-de9f-55e8aeb6156a"
      },
      "outputs": [
        {
          "data": {
            "text/plain": [
              "{'곽', '김', '박', '이'}"
            ]
          },
          "execution_count": 160,
          "metadata": {},
          "output_type": "execute_result"
        }
      ],
      "source": [
        "set1"
      ]
    },
    {
      "cell_type": "code",
      "execution_count": null,
      "id": "1c976fcd",
      "metadata": {
        "id": "1c976fcd",
        "outputId": "706a98d2-87f7-4c9e-d4d2-aa27f0aacc1e"
      },
      "outputs": [
        {
          "ename": "StopIteration",
          "evalue": "",
          "output_type": "error",
          "traceback": [
            "\u001b[0;31m---------------------------------------------------------------------------\u001b[0m",
            "\u001b[0;31mStopIteration\u001b[0m                             Traceback (most recent call last)",
            "Cell \u001b[0;32mIn[161], line 1\u001b[0m\n\u001b[0;32m----> 1\u001b[0m \u001b[38;5;28mnext\u001b[39m(set1_iter)\n",
            "\u001b[0;31mStopIteration\u001b[0m: "
          ]
        }
      ],
      "source": [
        "next(set1_iter)"
      ]
    },
    {
      "cell_type": "code",
      "execution_count": null,
      "id": "f8f93bca",
      "metadata": {
        "id": "f8f93bca"
      },
      "outputs": [],
      "source": [
        "set2_iter=iter(set1)"
      ]
    },
    {
      "cell_type": "code",
      "execution_count": null,
      "id": "9e15f928",
      "metadata": {
        "id": "9e15f928",
        "outputId": "b36404db-1f29-4679-d5e4-28a6653c0e4c"
      },
      "outputs": [
        {
          "data": {
            "text/plain": [
              "'김'"
            ]
          },
          "execution_count": 163,
          "metadata": {},
          "output_type": "execute_result"
        }
      ],
      "source": [
        "next(set2_iter)"
      ]
    },
    {
      "cell_type": "code",
      "execution_count": null,
      "id": "160ad923",
      "metadata": {
        "id": "160ad923",
        "outputId": "239cd8a0-1fe7-49ee-87a1-92eb54efac12"
      },
      "outputs": [
        {
          "data": {
            "text/plain": [
              "'박'"
            ]
          },
          "execution_count": 164,
          "metadata": {},
          "output_type": "execute_result"
        }
      ],
      "source": [
        "next(set2_iter)"
      ]
    },
    {
      "cell_type": "code",
      "execution_count": null,
      "id": "3db06f91",
      "metadata": {
        "id": "3db06f91",
        "outputId": "ff3d91d9-5862-48e3-b486-43a11bdabb99"
      },
      "outputs": [
        {
          "data": {
            "text/plain": [
              "'이'"
            ]
          },
          "execution_count": 165,
          "metadata": {},
          "output_type": "execute_result"
        }
      ],
      "source": [
        "next(set2_iter)"
      ]
    },
    {
      "cell_type": "code",
      "execution_count": null,
      "id": "66d198a0",
      "metadata": {
        "id": "66d198a0",
        "outputId": "5438ed8d-b242-471a-8373-abcc6fb9772d"
      },
      "outputs": [
        {
          "data": {
            "text/plain": [
              "'곽'"
            ]
          },
          "execution_count": 166,
          "metadata": {},
          "output_type": "execute_result"
        }
      ],
      "source": [
        "next(set2_iter)"
      ]
    },
    {
      "cell_type": "code",
      "execution_count": null,
      "id": "e6d09120",
      "metadata": {
        "id": "e6d09120",
        "outputId": "d44c76d2-b4fb-4cb2-c598-694bd978780f"
      },
      "outputs": [
        {
          "ename": "StopIteration",
          "evalue": "",
          "output_type": "error",
          "traceback": [
            "\u001b[0;31m---------------------------------------------------------------------------\u001b[0m",
            "\u001b[0;31mStopIteration\u001b[0m                             Traceback (most recent call last)",
            "Cell \u001b[0;32mIn[167], line 1\u001b[0m\n\u001b[0;32m----> 1\u001b[0m \u001b[38;5;28mnext\u001b[39m(set2_iter)\n",
            "\u001b[0;31mStopIteration\u001b[0m: "
          ]
        }
      ],
      "source": [
        "next(set2_iter)"
      ]
    },
    {
      "cell_type": "markdown",
      "id": "0becaf8c",
      "metadata": {
        "id": "0becaf8c"
      },
      "source": [
        "# 반복과 가변 타입"
      ]
    },
    {
      "cell_type": "code",
      "execution_count": null,
      "id": "fb44692c",
      "metadata": {
        "id": "fb44692c",
        "outputId": "15b6db5f-4cc2-49de-8003-f99e318b746f"
      },
      "outputs": [
        {
          "data": {
            "text/plain": [
              "[0, 2, 3]"
            ]
          },
          "execution_count": 177,
          "metadata": {},
          "output_type": "execute_result"
        }
      ],
      "source": [
        "list1=[0,2,3]; list1"
      ]
    },
    {
      "cell_type": "code",
      "execution_count": null,
      "id": "4819015a",
      "metadata": {
        "id": "4819015a",
        "outputId": "2093c3a9-4708-4f4a-d33b-1cac2c5aabf4"
      },
      "outputs": [
        {
          "data": {
            "text/plain": [
              "[1, 2, 3]"
            ]
          },
          "execution_count": 178,
          "metadata": {},
          "output_type": "execute_result"
        }
      ],
      "source": [
        "list1[0]=1; list1"
      ]
    },
    {
      "cell_type": "code",
      "execution_count": null,
      "id": "f78af1f1",
      "metadata": {
        "id": "f78af1f1",
        "outputId": "89a17f1a-fbf6-4bfb-b395-f08c45d62044"
      },
      "outputs": [
        {
          "data": {
            "text/plain": [
              "[1, 2, 3, 4]"
            ]
          },
          "execution_count": 179,
          "metadata": {},
          "output_type": "execute_result"
        }
      ],
      "source": [
        "list1.append(4); list1"
      ]
    },
    {
      "cell_type": "code",
      "execution_count": null,
      "id": "61dc7f86",
      "metadata": {
        "id": "61dc7f86",
        "outputId": "69c207b2-09c6-4195-ca55-a939787fa628"
      },
      "outputs": [
        {
          "data": {
            "text/plain": [
              "[2, 3, 4]"
            ]
          },
          "execution_count": 180,
          "metadata": {},
          "output_type": "execute_result"
        }
      ],
      "source": [
        "list1.remove(1); list1"
      ]
    },
    {
      "cell_type": "code",
      "execution_count": null,
      "id": "fd09bf71",
      "metadata": {
        "id": "fd09bf71",
        "outputId": "c7643bf8-2dfb-4a81-ceab-b303277b5f25"
      },
      "outputs": [
        {
          "data": {
            "text/plain": [
              "{'김': 3, '이': 0, '박': 2}"
            ]
          },
          "execution_count": 181,
          "metadata": {},
          "output_type": "execute_result"
        }
      ],
      "source": [
        "dic1={'김':3, '이':0, '박':2}; dic1"
      ]
    },
    {
      "cell_type": "code",
      "execution_count": null,
      "id": "b1a04710",
      "metadata": {
        "id": "b1a04710",
        "outputId": "e0b6ccc6-6de3-41d6-cbe1-e1502c7aad79"
      },
      "outputs": [
        {
          "data": {
            "text/plain": [
              "{'김': 3, '이': 1, '박': 2}"
            ]
          },
          "execution_count": 182,
          "metadata": {},
          "output_type": "execute_result"
        }
      ],
      "source": [
        "dic1['이']=1; dic1"
      ]
    },
    {
      "cell_type": "code",
      "execution_count": null,
      "id": "72e8d2e6",
      "metadata": {
        "id": "72e8d2e6",
        "outputId": "48106b3e-4bfa-4701-c9dd-3bdde7af78b2"
      },
      "outputs": [
        {
          "data": {
            "text/plain": [
              "{'김': 3, '이': 1, '박': 2, '최': -1}"
            ]
          },
          "execution_count": 184,
          "metadata": {},
          "output_type": "execute_result"
        }
      ],
      "source": [
        "dic1['최']=-1; dic1"
      ]
    },
    {
      "cell_type": "code",
      "execution_count": null,
      "id": "1f4e3ccd",
      "metadata": {
        "id": "1f4e3ccd",
        "outputId": "f9bb29b4-cf64-4199-e4c9-871fdea06669"
      },
      "outputs": [
        {
          "data": {
            "text/plain": [
              "{'김': 3, '이': 1, '박': 2}"
            ]
          },
          "execution_count": 185,
          "metadata": {},
          "output_type": "execute_result"
        }
      ],
      "source": [
        "del(dic1['최']); dic1"
      ]
    },
    {
      "cell_type": "code",
      "execution_count": null,
      "id": "7dadc50a",
      "metadata": {
        "id": "7dadc50a"
      },
      "outputs": [],
      "source": [
        "set1 = {'이','김', '박'}"
      ]
    },
    {
      "cell_type": "code",
      "execution_count": null,
      "id": "1654088a",
      "metadata": {
        "id": "1654088a",
        "outputId": "49d40307-da7f-4ff5-d1d6-f6af1c3e6e10"
      },
      "outputs": [
        {
          "data": {
            "text/plain": [
              "{'김', '박', '이', '최'}"
            ]
          },
          "execution_count": 187,
          "metadata": {},
          "output_type": "execute_result"
        }
      ],
      "source": [
        "set1.add('최'); set1"
      ]
    },
    {
      "cell_type": "code",
      "execution_count": null,
      "id": "8711cc2c",
      "metadata": {
        "id": "8711cc2c",
        "outputId": "01bec698-dbcd-4013-8d1d-1db662e81068"
      },
      "outputs": [
        {
          "data": {
            "text/plain": [
              "{'박', '이', '최'}"
            ]
          },
          "execution_count": 188,
          "metadata": {},
          "output_type": "execute_result"
        }
      ],
      "source": [
        "set1.remove('김'); set1"
      ]
    },
    {
      "cell_type": "markdown",
      "id": "90ff62c7",
      "metadata": {
        "id": "90ff62c7"
      },
      "source": [
        "# 문자열 연산\n",
        "list.append('new') / dict['new']=123 / set.add('new')\n",
        "\n",
        "list.remove('del') / del(dict['del']) / set.remove('del')"
      ]
    },
    {
      "cell_type": "code",
      "execution_count": null,
      "id": "da0de362",
      "metadata": {
        "id": "da0de362",
        "outputId": "21c85511-3fd7-45a6-ab3d-e03808338397"
      },
      "outputs": [
        {
          "data": {
            "text/plain": [
              "'Hello Python'"
            ]
          },
          "execution_count": 189,
          "metadata": {},
          "output_type": "execute_result"
        }
      ],
      "source": [
        "string1=lst1[2]; string1"
      ]
    },
    {
      "cell_type": "code",
      "execution_count": null,
      "id": "afe4a44c",
      "metadata": {
        "id": "afe4a44c",
        "outputId": "7d243915-61de-4b49-f8cf-427ab6f8cdef"
      },
      "outputs": [
        {
          "data": {
            "text/plain": [
              "'P'"
            ]
          },
          "execution_count": 190,
          "metadata": {},
          "output_type": "execute_result"
        }
      ],
      "source": [
        "string1[6]"
      ]
    },
    {
      "cell_type": "code",
      "execution_count": null,
      "id": "88083619",
      "metadata": {
        "id": "88083619",
        "outputId": "f85b0d40-623d-40af-9fcb-7e312035192d"
      },
      "outputs": [
        {
          "ename": "TypeError",
          "evalue": "'str' object does not support item assignment",
          "output_type": "error",
          "traceback": [
            "\u001b[0;31m---------------------------------------------------------------------------\u001b[0m",
            "\u001b[0;31mTypeError\u001b[0m                                 Traceback (most recent call last)",
            "Cell \u001b[0;32mIn[191], line 1\u001b[0m\n\u001b[0;32m----> 1\u001b[0m string1[\u001b[38;5;241m6\u001b[39m]\u001b[38;5;241m=\u001b[39m\u001b[38;5;124m'\u001b[39m\u001b[38;5;124mp\u001b[39m\u001b[38;5;124m'\u001b[39m\n",
            "\u001b[0;31mTypeError\u001b[0m: 'str' object does not support item assignment"
          ]
        }
      ],
      "source": [
        "string1[6]='p'"
      ]
    },
    {
      "cell_type": "code",
      "execution_count": null,
      "id": "dbe871db",
      "metadata": {
        "id": "dbe871db",
        "outputId": "c15ac388-6a21-4b79-b1c5-76672596b8db"
      },
      "outputs": [
        {
          "data": {
            "text/plain": [
              "(1, (2, 3), 4)"
            ]
          },
          "execution_count": 192,
          "metadata": {},
          "output_type": "execute_result"
        }
      ],
      "source": [
        "tuple1=(1,(2,3),4); tuple1"
      ]
    },
    {
      "cell_type": "code",
      "execution_count": null,
      "id": "139b7c91",
      "metadata": {
        "id": "139b7c91",
        "outputId": "e5c69c18-56c1-4b07-ad3c-5e63b7971f4c"
      },
      "outputs": [
        {
          "data": {
            "text/plain": [
              "((2, 3), 3, 2)"
            ]
          },
          "execution_count": 194,
          "metadata": {},
          "output_type": "execute_result"
        }
      ],
      "source": [
        "tuple1[1]"
      ]
    },
    {
      "cell_type": "code",
      "execution_count": null,
      "id": "515343d0",
      "metadata": {
        "id": "515343d0",
        "outputId": "11277cad-a295-4df7-860f-a3ad33511a53"
      },
      "outputs": [
        {
          "data": {
            "text/plain": [
              "(3, 2)"
            ]
          },
          "execution_count": 195,
          "metadata": {},
          "output_type": "execute_result"
        }
      ],
      "source": [
        "tuple1[1][1], tuple1[1][0]"
      ]
    },
    {
      "cell_type": "code",
      "execution_count": null,
      "id": "e978624f",
      "metadata": {
        "id": "e978624f",
        "outputId": "1142778d-b082-4eed-ca81-fe7fe2a8ef98"
      },
      "outputs": [
        {
          "data": {
            "text/plain": [
              "1"
            ]
          },
          "execution_count": 197,
          "metadata": {},
          "output_type": "execute_result"
        }
      ],
      "source": [
        "tuple1[0]"
      ]
    },
    {
      "cell_type": "code",
      "execution_count": null,
      "id": "a2790652",
      "metadata": {
        "id": "a2790652",
        "outputId": "998eda63-1d0b-4045-a496-bc978f0acbcd"
      },
      "outputs": [
        {
          "ename": "TypeError",
          "evalue": "'tuple' object does not support item assignment",
          "output_type": "error",
          "traceback": [
            "\u001b[0;31m---------------------------------------------------------------------------\u001b[0m",
            "\u001b[0;31mTypeError\u001b[0m                                 Traceback (most recent call last)",
            "Cell \u001b[0;32mIn[198], line 1\u001b[0m\n\u001b[0;32m----> 1\u001b[0m tuple1[\u001b[38;5;241m0\u001b[39m]\u001b[38;5;241m=\u001b[39m\u001b[38;5;241m9\u001b[39m\n",
            "\u001b[0;31mTypeError\u001b[0m: 'tuple' object does not support item assignment"
          ]
        }
      ],
      "source": [
        "tuple1[0]=9"
      ]
    },
    {
      "cell_type": "markdown",
      "id": "74dd5da5",
      "metadata": {
        "id": "74dd5da5"
      },
      "source": [
        "# 인덱싱과 슬라이싱"
      ]
    },
    {
      "cell_type": "code",
      "execution_count": null,
      "id": "4722ab2e",
      "metadata": {
        "id": "4722ab2e"
      },
      "outputs": [],
      "source": [
        "list2=[0,1,2,3,4,5]"
      ]
    },
    {
      "cell_type": "code",
      "execution_count": null,
      "id": "7124b21c",
      "metadata": {
        "id": "7124b21c",
        "outputId": "07fc85c4-a6fb-4f29-c65c-de35761ea96c"
      },
      "outputs": [
        {
          "data": {
            "text/plain": [
              "[1, 4]"
            ]
          },
          "execution_count": 201,
          "metadata": {},
          "output_type": "execute_result"
        }
      ],
      "source": [
        "list2[1:5:3]"
      ]
    },
    {
      "cell_type": "code",
      "execution_count": null,
      "id": "b81cdd84",
      "metadata": {
        "id": "b81cdd84",
        "outputId": "331feea4-6af5-4ec1-b240-b6a2c3e0504a"
      },
      "outputs": [
        {
          "data": {
            "text/plain": [
              "[1, 3]"
            ]
          },
          "execution_count": 202,
          "metadata": {},
          "output_type": "execute_result"
        }
      ],
      "source": [
        "list2[1:5:2]"
      ]
    },
    {
      "cell_type": "code",
      "execution_count": null,
      "id": "b43270ec",
      "metadata": {
        "id": "b43270ec",
        "outputId": "6e089288-742e-41b5-fe13-daf0b87ae0c0"
      },
      "outputs": [
        {
          "data": {
            "text/plain": [
              "[1, 2, 3, 4]"
            ]
          },
          "execution_count": 203,
          "metadata": {},
          "output_type": "execute_result"
        }
      ],
      "source": [
        "list2[1:5:1]"
      ]
    },
    {
      "cell_type": "code",
      "execution_count": null,
      "id": "2c8b75f9",
      "metadata": {
        "id": "2c8b75f9",
        "outputId": "a95a7c6a-b1fa-4226-9016-478a6cec744d"
      },
      "outputs": [
        {
          "data": {
            "text/plain": [
              "[1, 3, 5]"
            ]
          },
          "execution_count": 204,
          "metadata": {},
          "output_type": "execute_result"
        }
      ],
      "source": [
        "list2[1:6:2]"
      ]
    },
    {
      "cell_type": "code",
      "execution_count": null,
      "id": "70968941",
      "metadata": {
        "id": "70968941",
        "outputId": "ad50ca93-b431-4754-9d23-4ce230ff2c6c"
      },
      "outputs": [
        {
          "data": {
            "text/plain": [
              "[5, 3, 1]"
            ]
          },
          "execution_count": 206,
          "metadata": {},
          "output_type": "execute_result"
        }
      ],
      "source": [
        "list2[-1:-6:-2]"
      ]
    },
    {
      "cell_type": "code",
      "execution_count": null,
      "id": "d8d3733d",
      "metadata": {
        "id": "d8d3733d",
        "outputId": "3b1021a0-80bb-410d-ddf8-a954539d08ee"
      },
      "outputs": [
        {
          "data": {
            "text/plain": [
              "[]"
            ]
          },
          "execution_count": 207,
          "metadata": {},
          "output_type": "execute_result"
        }
      ],
      "source": [
        "list2[-1:-6:2]"
      ]
    },
    {
      "cell_type": "code",
      "execution_count": null,
      "id": "197ed9cb",
      "metadata": {
        "id": "197ed9cb",
        "outputId": "0c9e2f67-c67f-42f6-d4c2-2fd2555ddbfe"
      },
      "outputs": [
        {
          "data": {
            "text/plain": [
              "[0, 1, 2, 3, 4]"
            ]
          },
          "execution_count": 209,
          "metadata": {},
          "output_type": "execute_result"
        }
      ],
      "source": [
        "list2[:5]"
      ]
    },
    {
      "cell_type": "code",
      "execution_count": null,
      "id": "76e7f244",
      "metadata": {
        "id": "76e7f244",
        "outputId": "e558756f-d59f-4270-ee79-584222a02dad"
      },
      "outputs": [
        {
          "data": {
            "text/plain": [
              "[0, 2, 4]"
            ]
          },
          "execution_count": 210,
          "metadata": {},
          "output_type": "execute_result"
        }
      ],
      "source": [
        "list2[:5:2]"
      ]
    },
    {
      "cell_type": "code",
      "execution_count": null,
      "id": "bf416b63",
      "metadata": {
        "id": "bf416b63",
        "outputId": "28bbad6f-5442-40a0-af5b-84f8c486f892"
      },
      "outputs": [
        {
          "data": {
            "text/plain": [
              "[0, 3]"
            ]
          },
          "execution_count": 211,
          "metadata": {},
          "output_type": "execute_result"
        }
      ],
      "source": [
        "list2[:5:3]"
      ]
    },
    {
      "cell_type": "code",
      "execution_count": null,
      "id": "ae25b406",
      "metadata": {
        "id": "ae25b406",
        "outputId": "6a9336b5-e781-40b8-a6cf-4e0ee9f1d91d"
      },
      "outputs": [
        {
          "data": {
            "text/plain": [
              "[0, 2, 4]"
            ]
          },
          "execution_count": 212,
          "metadata": {},
          "output_type": "execute_result"
        }
      ],
      "source": [
        "list2[0::2]"
      ]
    },
    {
      "cell_type": "code",
      "execution_count": null,
      "id": "4e5edb3d",
      "metadata": {
        "id": "4e5edb3d"
      },
      "outputs": [],
      "source": [
        "string2=\"안녕 파이썬!\""
      ]
    },
    {
      "cell_type": "code",
      "execution_count": null,
      "id": "16404026",
      "metadata": {
        "id": "16404026",
        "outputId": "95bb82dd-2999-40e7-aaff-74d4125aba78"
      },
      "outputs": [
        {
          "data": {
            "text/plain": [
              "'!썬이파 녕안'"
            ]
          },
          "execution_count": 214,
          "metadata": {},
          "output_type": "execute_result"
        }
      ],
      "source": [
        "string2[-1::-1]"
      ]
    },
    {
      "cell_type": "code",
      "execution_count": null,
      "id": "1ddda1df",
      "metadata": {
        "id": "1ddda1df",
        "outputId": "34610634-f588-47b0-9a20-50dcdd6fcd1e"
      },
      "outputs": [
        {
          "data": {
            "text/plain": [
              "'파이썬!'"
            ]
          },
          "execution_count": 215,
          "metadata": {},
          "output_type": "execute_result"
        }
      ],
      "source": [
        "string2[-4::1]"
      ]
    },
    {
      "cell_type": "code",
      "execution_count": null,
      "id": "2b8613f1",
      "metadata": {
        "id": "2b8613f1",
        "outputId": "8a6991e1-9920-49f9-b3ac-cc88f0e3e256"
      },
      "outputs": [
        {
          "data": {
            "text/plain": [
              "'안 이!'"
            ]
          },
          "execution_count": 216,
          "metadata": {},
          "output_type": "execute_result"
        }
      ],
      "source": [
        "string2[0::2]"
      ]
    },
    {
      "cell_type": "code",
      "execution_count": null,
      "id": "53d9b5a7",
      "metadata": {
        "id": "53d9b5a7",
        "outputId": "e577368d-e85d-4ba8-d6ae-c752fb3ac311"
      },
      "outputs": [
        {
          "data": {
            "text/plain": [
              "'안녕 '"
            ]
          },
          "execution_count": 217,
          "metadata": {},
          "output_type": "execute_result"
        }
      ],
      "source": [
        "string2[:3:]"
      ]
    },
    {
      "cell_type": "code",
      "execution_count": null,
      "id": "a542bac2",
      "metadata": {
        "id": "a542bac2",
        "outputId": "1cc57983-97af-4103-82c6-5a26859632f2"
      },
      "outputs": [
        {
          "data": {
            "text/plain": [
              "'파이썬!'"
            ]
          },
          "execution_count": 218,
          "metadata": {},
          "output_type": "execute_result"
        }
      ],
      "source": [
        "string2[3:]"
      ]
    },
    {
      "cell_type": "code",
      "execution_count": null,
      "id": "14771f14",
      "metadata": {
        "id": "14771f14",
        "outputId": "fb340767-f916-4771-83de-fca5f1f58554"
      },
      "outputs": [
        {
          "data": {
            "text/plain": [
              "'안녕 파이썬!'"
            ]
          },
          "execution_count": 219,
          "metadata": {},
          "output_type": "execute_result"
        }
      ],
      "source": [
        "string2[0:]"
      ]
    },
    {
      "cell_type": "code",
      "execution_count": null,
      "id": "f7340e7c",
      "metadata": {
        "id": "f7340e7c",
        "outputId": "f8ccd4d9-318c-4fdf-e502-22771146c83d"
      },
      "outputs": [
        {
          "data": {
            "text/plain": [
              "'안녕 파이썬!'"
            ]
          },
          "execution_count": 220,
          "metadata": {},
          "output_type": "execute_result"
        }
      ],
      "source": [
        "string2[:]"
      ]
    },
    {
      "cell_type": "code",
      "execution_count": null,
      "id": "2662fb47",
      "metadata": {
        "id": "2662fb47",
        "outputId": "3d37a065-0d63-4e98-e154-764829daa712"
      },
      "outputs": [
        {
          "data": {
            "text/plain": [
              "'안녕 파이썬!'"
            ]
          },
          "execution_count": 221,
          "metadata": {},
          "output_type": "execute_result"
        }
      ],
      "source": [
        "string2[0::1]"
      ]
    },
    {
      "cell_type": "code",
      "execution_count": null,
      "id": "ed8c72ac",
      "metadata": {
        "id": "ed8c72ac",
        "outputId": "17eddac4-d50a-46e5-9032-5c40ff1dabbe"
      },
      "outputs": [
        {
          "data": {
            "text/plain": [
              "'안 이!'"
            ]
          },
          "execution_count": 222,
          "metadata": {},
          "output_type": "execute_result"
        }
      ],
      "source": [
        "string2[0::2]"
      ]
    },
    {
      "cell_type": "code",
      "execution_count": null,
      "id": "6061cde2",
      "metadata": {
        "id": "6061cde2",
        "outputId": "53e54250-9a0f-4d15-b96c-13c87917e7df"
      },
      "outputs": [
        {
          "data": {
            "text/plain": [
              "'안파!'"
            ]
          },
          "execution_count": 223,
          "metadata": {},
          "output_type": "execute_result"
        }
      ],
      "source": [
        "string2[0::3]"
      ]
    },
    {
      "cell_type": "code",
      "execution_count": null,
      "id": "d8799c5b",
      "metadata": {
        "id": "d8799c5b",
        "outputId": "a76dcead-ba98-4f33-db81-9a9df6982dce"
      },
      "outputs": [
        {
          "data": {
            "text/plain": [
              "[0, 1, 2, 3, 4, 5]"
            ]
          },
          "execution_count": 224,
          "metadata": {},
          "output_type": "execute_result"
        }
      ],
      "source": [
        "list2"
      ]
    },
    {
      "cell_type": "code",
      "execution_count": null,
      "id": "14189303",
      "metadata": {
        "id": "14189303",
        "outputId": "5e433963-5711-4309-b61e-70729a7c9743"
      },
      "outputs": [
        {
          "data": {
            "text/plain": [
              "[4, 5]"
            ]
          },
          "execution_count": 225,
          "metadata": {},
          "output_type": "execute_result"
        }
      ],
      "source": [
        "list2[4:6]"
      ]
    },
    {
      "cell_type": "code",
      "execution_count": null,
      "id": "bbeadb6a",
      "metadata": {
        "id": "bbeadb6a",
        "outputId": "6ad77f9c-033d-4ba0-86ea-9dba76597d4e"
      },
      "outputs": [
        {
          "ename": "IndexError",
          "evalue": "list index out of range",
          "output_type": "error",
          "traceback": [
            "\u001b[0;31m---------------------------------------------------------------------------\u001b[0m",
            "\u001b[0;31mIndexError\u001b[0m                                Traceback (most recent call last)",
            "Cell \u001b[0;32mIn[226], line 1\u001b[0m\n\u001b[0;32m----> 1\u001b[0m list2[\u001b[38;5;241m6\u001b[39m]\n",
            "\u001b[0;31mIndexError\u001b[0m: list index out of range"
          ]
        }
      ],
      "source": [
        "list2[6]"
      ]
    },
    {
      "cell_type": "code",
      "execution_count": null,
      "id": "fb9a2acf",
      "metadata": {
        "id": "fb9a2acf",
        "outputId": "92ebb9f5-e4fa-41ee-c4d5-3455a9b6acab"
      },
      "outputs": [
        {
          "data": {
            "text/plain": [
              "list[6]"
            ]
          },
          "execution_count": 227,
          "metadata": {},
          "output_type": "execute_result"
        }
      ],
      "source": [
        "list[6]"
      ]
    },
    {
      "cell_type": "code",
      "execution_count": null,
      "id": "bce95dba",
      "metadata": {
        "id": "bce95dba",
        "outputId": "b4f44467-911e-4997-93c3-0c33c3d8fbc8"
      },
      "outputs": [
        {
          "data": {
            "text/plain": [
              "5"
            ]
          },
          "execution_count": 229,
          "metadata": {},
          "output_type": "execute_result"
        }
      ],
      "source": [
        "list2[5]"
      ]
    },
    {
      "cell_type": "code",
      "execution_count": null,
      "id": "ff7e4e1e",
      "metadata": {
        "id": "ff7e4e1e",
        "outputId": "e2eca3ab-5d32-4002-a6fe-8e576bafcc61"
      },
      "outputs": [
        {
          "data": {
            "text/plain": [
              "[0, 1, 2, 3, 4, 7]"
            ]
          },
          "execution_count": 230,
          "metadata": {},
          "output_type": "execute_result"
        }
      ],
      "source": [
        "list2[5]=7; list2"
      ]
    },
    {
      "cell_type": "markdown",
      "id": "1d48ebe3",
      "metadata": {
        "id": "1d48ebe3"
      },
      "source": [
        "# 순차 데이터의 덧셈과 곱셈"
      ]
    },
    {
      "cell_type": "code",
      "execution_count": null,
      "id": "8969e119",
      "metadata": {
        "id": "8969e119"
      },
      "outputs": [],
      "source": [
        "s1='안녕, '\n",
        "s2='파이썬 '\n",
        "s3='AI'"
      ]
    },
    {
      "cell_type": "code",
      "execution_count": null,
      "id": "a4bd3b37",
      "metadata": {
        "id": "a4bd3b37",
        "outputId": "5fa6d1c8-45c7-4465-a42f-380e3a55b116"
      },
      "outputs": [
        {
          "data": {
            "text/plain": [
              "'안녕, 파이썬 안녕, AI'"
            ]
          },
          "execution_count": 234,
          "metadata": {},
          "output_type": "execute_result"
        }
      ],
      "source": [
        "s1+s2+s1+s3"
      ]
    },
    {
      "cell_type": "code",
      "execution_count": null,
      "id": "20b86d59",
      "metadata": {
        "id": "20b86d59",
        "outputId": "c4c6d633-09db-4a32-eaa5-d1c07351c4b5"
      },
      "outputs": [
        {
          "data": {
            "text/plain": [
              "'안녕, 안녕, 안녕, '"
            ]
          },
          "execution_count": 236,
          "metadata": {},
          "output_type": "execute_result"
        }
      ],
      "source": [
        "s1*3"
      ]
    },
    {
      "cell_type": "code",
      "execution_count": null,
      "id": "b63d2abf",
      "metadata": {
        "id": "b63d2abf",
        "outputId": "a559993c-d958-459f-8f2d-ebc758833751"
      },
      "outputs": [
        {
          "data": {
            "text/plain": [
              "'안녕, 파이썬 \\n 안녕, 파이썬 \\n 안녕, 파이썬 \\n '"
            ]
          },
          "execution_count": 243,
          "metadata": {},
          "output_type": "execute_result"
        }
      ],
      "source": [
        "(s1+s2+\"\\n \")*3"
      ]
    },
    {
      "cell_type": "code",
      "execution_count": null,
      "id": "4c142d76",
      "metadata": {
        "id": "4c142d76"
      },
      "outputs": [],
      "source": [
        "list2=[1,2,3]\n",
        "list3=[4]"
      ]
    },
    {
      "cell_type": "code",
      "execution_count": null,
      "id": "b9896800",
      "metadata": {
        "id": "b9896800",
        "outputId": "49035a33-c1ab-4a5c-b2cf-54f614040112"
      },
      "outputs": [
        {
          "data": {
            "text/plain": [
              "[1, 2, 3, 4]"
            ]
          },
          "execution_count": 245,
          "metadata": {},
          "output_type": "execute_result"
        }
      ],
      "source": [
        "list2+list3"
      ]
    },
    {
      "cell_type": "code",
      "execution_count": null,
      "id": "74830746",
      "metadata": {
        "id": "74830746",
        "outputId": "9cd3519f-753a-4406-c008-5a9f36334774"
      },
      "outputs": [
        {
          "data": {
            "text/plain": [
              "[1, 2, 3, 1, 2, 3, 1, 2, 3]"
            ]
          },
          "execution_count": 246,
          "metadata": {},
          "output_type": "execute_result"
        }
      ],
      "source": [
        "list2*3"
      ]
    },
    {
      "cell_type": "code",
      "execution_count": null,
      "id": "f47bf4bc",
      "metadata": {
        "id": "f47bf4bc",
        "outputId": "ccc0b0a2-5a63-416f-e6a2-cf3b071ecfc9"
      },
      "outputs": [
        {
          "data": {
            "text/plain": [
              "[1, 2, 3, 4, 4, 1, 2, 3, 4, 4, 1, 2, 3, 4, 4]"
            ]
          },
          "execution_count": 247,
          "metadata": {},
          "output_type": "execute_result"
        }
      ],
      "source": [
        "(list2+list3*2)*3"
      ]
    },
    {
      "cell_type": "code",
      "execution_count": null,
      "id": "71e3a02d",
      "metadata": {
        "id": "71e3a02d",
        "outputId": "6d83e0d9-b6ca-4132-c8b3-e388786cb3c4"
      },
      "outputs": [
        {
          "data": {
            "text/plain": [
              "[4, 4]"
            ]
          },
          "execution_count": 248,
          "metadata": {},
          "output_type": "execute_result"
        }
      ],
      "source": [
        "list3*2"
      ]
    },
    {
      "cell_type": "markdown",
      "id": "8947eab3",
      "metadata": {
        "id": "8947eab3"
      },
      "source": [
        "# 요소에 대한 확인 : in, 기타함수들"
      ]
    },
    {
      "cell_type": "code",
      "execution_count": null,
      "id": "0eb39c97",
      "metadata": {
        "id": "0eb39c97"
      },
      "outputs": [],
      "source": [
        "string2=\"Hello, \""
      ]
    },
    {
      "cell_type": "code",
      "execution_count": null,
      "id": "b847ac81",
      "metadata": {
        "id": "b847ac81",
        "outputId": "67eccd72-fbf1-4ba2-9f2a-837430addb1b"
      },
      "outputs": [
        {
          "data": {
            "text/plain": [
              "True"
            ]
          },
          "execution_count": 250,
          "metadata": {},
          "output_type": "execute_result"
        }
      ],
      "source": [
        "'H' in string2"
      ]
    },
    {
      "cell_type": "code",
      "execution_count": null,
      "id": "ad2eda1c",
      "metadata": {
        "id": "ad2eda1c",
        "outputId": "d5743fc9-19e7-4ec8-e814-705c21d15fb9"
      },
      "outputs": [
        {
          "data": {
            "text/plain": [
              "False"
            ]
          },
          "execution_count": 251,
          "metadata": {},
          "output_type": "execute_result"
        }
      ],
      "source": [
        "'h' in string2"
      ]
    },
    {
      "cell_type": "code",
      "execution_count": null,
      "id": "b3fdac5e",
      "metadata": {
        "id": "b3fdac5e",
        "outputId": "e394ec88-dff3-4454-ea0a-cf923467b573"
      },
      "outputs": [
        {
          "data": {
            "text/plain": [
              "True"
            ]
          },
          "execution_count": 252,
          "metadata": {},
          "output_type": "execute_result"
        }
      ],
      "source": [
        "'h' not in string2"
      ]
    },
    {
      "cell_type": "code",
      "execution_count": null,
      "id": "52b2c265",
      "metadata": {
        "id": "52b2c265"
      },
      "outputs": [],
      "source": [
        "dic1={'김':3, '이':0, '박':2}"
      ]
    },
    {
      "cell_type": "code",
      "execution_count": null,
      "id": "e093d84c",
      "metadata": {
        "id": "e093d84c",
        "outputId": "7f30af09-6381-457f-878f-7172e1695727"
      },
      "outputs": [
        {
          "data": {
            "text/plain": [
              "{'김': 3, '이': 0, '박': 2}"
            ]
          },
          "execution_count": 254,
          "metadata": {},
          "output_type": "execute_result"
        }
      ],
      "source": [
        "dic1"
      ]
    },
    {
      "cell_type": "code",
      "execution_count": null,
      "id": "0ed9a2d0",
      "metadata": {
        "id": "0ed9a2d0",
        "outputId": "9d4d503e-97b6-4bf0-ff70-5458b2442fc6"
      },
      "outputs": [
        {
          "data": {
            "text/plain": [
              "3"
            ]
          },
          "execution_count": 258,
          "metadata": {},
          "output_type": "execute_result"
        }
      ],
      "source": [
        "dic1['김']"
      ]
    },
    {
      "cell_type": "code",
      "execution_count": null,
      "id": "33ea8ab7",
      "metadata": {
        "id": "33ea8ab7",
        "outputId": "26c045bf-0648-4f3d-ba24-9d2f2515f9f3"
      },
      "outputs": [
        {
          "data": {
            "text/plain": [
              "4"
            ]
          },
          "execution_count": 259,
          "metadata": {},
          "output_type": "execute_result"
        }
      ],
      "source": [
        "list3[0]"
      ]
    },
    {
      "cell_type": "code",
      "execution_count": null,
      "id": "2765a127",
      "metadata": {
        "id": "2765a127",
        "outputId": "398e8d1c-2b5e-47bd-cbba-dca29f783802"
      },
      "outputs": [
        {
          "data": {
            "text/plain": [
              "False"
            ]
          },
          "execution_count": 260,
          "metadata": {},
          "output_type": "execute_result"
        }
      ],
      "source": [
        "3 in dic1"
      ]
    },
    {
      "cell_type": "code",
      "execution_count": null,
      "id": "afa3e279",
      "metadata": {
        "id": "afa3e279",
        "outputId": "8b81f634-343c-4289-cead-5bcb3113141d"
      },
      "outputs": [
        {
          "data": {
            "text/plain": [
              "True"
            ]
          },
          "execution_count": 261,
          "metadata": {},
          "output_type": "execute_result"
        }
      ],
      "source": [
        "'박' in dic1"
      ]
    },
    {
      "cell_type": "code",
      "execution_count": null,
      "id": "9962901a",
      "metadata": {
        "id": "9962901a",
        "outputId": "4d631936-449e-4e0e-ed3b-d03273c89c37"
      },
      "outputs": [
        {
          "data": {
            "text/plain": [
              "'r'"
            ]
          },
          "execution_count": 262,
          "metadata": {},
          "output_type": "execute_result"
        }
      ],
      "source": [
        "max('Hello, World')"
      ]
    },
    {
      "cell_type": "code",
      "execution_count": null,
      "id": "2c0d2bf5",
      "metadata": {
        "id": "2c0d2bf5",
        "outputId": "b34e3739-459c-48db-d54e-6fe5e851e352"
      },
      "outputs": [
        {
          "data": {
            "text/plain": [
              "'w'"
            ]
          },
          "execution_count": 263,
          "metadata": {},
          "output_type": "execute_result"
        }
      ],
      "source": [
        "max('Hello, world')"
      ]
    },
    {
      "cell_type": "code",
      "execution_count": null,
      "id": "438fdd12",
      "metadata": {
        "id": "438fdd12",
        "outputId": "f21b18cb-f752-40b3-9cc4-423a241be882"
      },
      "outputs": [
        {
          "data": {
            "text/plain": [
              "'w'"
            ]
          },
          "execution_count": 264,
          "metadata": {},
          "output_type": "execute_result"
        }
      ],
      "source": [
        "max('Hello, World! hello, world')"
      ]
    },
    {
      "cell_type": "code",
      "execution_count": null,
      "id": "dfba110c",
      "metadata": {
        "id": "dfba110c",
        "outputId": "f3efba98-6749-4e72-809d-1595bd9e40c8"
      },
      "outputs": [
        {
          "data": {
            "text/plain": [
              "' '"
            ]
          },
          "execution_count": 265,
          "metadata": {},
          "output_type": "execute_result"
        }
      ],
      "source": [
        "min('Hello, World! hello, world')"
      ]
    },
    {
      "cell_type": "markdown",
      "id": "13136d32",
      "metadata": {
        "id": "13136d32"
      },
      "source": [
        "# 컨테이너 데이터 타입을 통한 관리"
      ]
    },
    {
      "cell_type": "code",
      "execution_count": null,
      "id": "1dfbefad",
      "metadata": {
        "id": "1dfbefad"
      },
      "outputs": [],
      "source": [
        "tupletype=(8203, '이병훈', 97, 89, 75)\n",
        "listtype=[8203, '이병훈', 97, 89, 75]"
      ]
    },
    {
      "cell_type": "code",
      "execution_count": null,
      "id": "f3342154",
      "metadata": {
        "id": "f3342154",
        "outputId": "4bcfb0ca-a1fd-4c6e-934c-8ed77fa79b1e"
      },
      "outputs": [
        {
          "data": {
            "text/plain": [
              "97"
            ]
          },
          "execution_count": 269,
          "metadata": {},
          "output_type": "execute_result"
        }
      ],
      "source": [
        "listtype[2]"
      ]
    },
    {
      "cell_type": "code",
      "execution_count": null,
      "id": "534401ec",
      "metadata": {
        "id": "534401ec"
      },
      "outputs": [],
      "source": [
        "dictype={'학번':8203, '이름':'이병훈', '국어':97, '영어':89, '수학':75}"
      ]
    },
    {
      "cell_type": "code",
      "execution_count": null,
      "id": "11e554b0",
      "metadata": {
        "id": "11e554b0",
        "outputId": "51830f05-8a0f-4e5c-8202-b69355c8be11"
      },
      "outputs": [
        {
          "data": {
            "text/plain": [
              "'이병훈'"
            ]
          },
          "execution_count": 272,
          "metadata": {},
          "output_type": "execute_result"
        }
      ],
      "source": [
        "dictype['이름']"
      ]
    },
    {
      "cell_type": "code",
      "execution_count": null,
      "id": "b38e5f1c",
      "metadata": {
        "id": "b38e5f1c"
      },
      "outputs": [],
      "source": [
        "listdictype=[{'학번':8203, '이름':'이병혼', '국어':97, '영어':89, '수학':75},\n",
        "             {'학번':8204, '이름':'송혜규', '국어':98, '영어':95, '수학':55}\n",
        "            ]"
      ]
    },
    {
      "cell_type": "code",
      "execution_count": null,
      "id": "e07ce188",
      "metadata": {
        "id": "e07ce188",
        "outputId": "434d31c7-9b5c-4a81-e819-3490826dd71c"
      },
      "outputs": [
        {
          "data": {
            "text/plain": [
              "{'학번': 8204, '이름': '송혜규', '국어': 98, '영어': 95, '수학': 55}"
            ]
          },
          "execution_count": 274,
          "metadata": {},
          "output_type": "execute_result"
        }
      ],
      "source": [
        "listdictype[1]"
      ]
    },
    {
      "cell_type": "code",
      "execution_count": null,
      "id": "44e389bd",
      "metadata": {
        "id": "44e389bd"
      },
      "outputs": [],
      "source": [
        "dicdictype={ 8204:{'이름':'송혜규', '국어':98, '영어':95, '수학':55},\n",
        "             8203:{'이름':'이병혼', '국어':97, '영어':89, '수학':75}\n",
        "           }"
      ]
    },
    {
      "cell_type": "code",
      "execution_count": null,
      "id": "190ebc3f",
      "metadata": {
        "id": "190ebc3f",
        "outputId": "e9551fa4-74d9-4990-e52c-28feb6a78620"
      },
      "outputs": [
        {
          "data": {
            "text/plain": [
              "{'이름': '송혜규', '국어': 98, '영어': 95, '수학': 55}"
            ]
          },
          "execution_count": 276,
          "metadata": {},
          "output_type": "execute_result"
        }
      ],
      "source": [
        "dicdictype[8204]"
      ]
    },
    {
      "cell_type": "code",
      "execution_count": null,
      "id": "d01ce5fb",
      "metadata": {
        "id": "d01ce5fb"
      },
      "outputs": [],
      "source": []
    }
  ],
  "metadata": {
    "kernelspec": {
      "display_name": "Python 3 (ipykernel)",
      "language": "python",
      "name": "python3"
    },
    "language_info": {
      "codemirror_mode": {
        "name": "ipython",
        "version": 3
      },
      "file_extension": ".py",
      "mimetype": "text/x-python",
      "name": "python",
      "nbconvert_exporter": "python",
      "pygments_lexer": "ipython3",
      "version": "3.11.5"
    },
    "colab": {
      "provenance": [],
      "include_colab_link": true
    }
  },
  "nbformat": 4,
  "nbformat_minor": 5
}