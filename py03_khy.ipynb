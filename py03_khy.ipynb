{
  "cells": [
    {
      "cell_type": "markdown",
      "metadata": {
        "id": "view-in-github",
        "colab_type": "text"
      },
      "source": [
        "<a href=\"https://colab.research.google.com/github/khykhan/FastCampus_Java_Spring/blob/master/py03_khy.ipynb\" target=\"_parent\"><img src=\"https://colab.research.google.com/assets/colab-badge.svg\" alt=\"Open In Colab\"/></a>"
      ]
    },
    {
      "cell_type": "markdown",
      "id": "c2d162e2",
      "metadata": {
        "id": "c2d162e2"
      },
      "source": [
        "# 3강 식별자와 연산자 실습\n",
        "# 식별자(Identifier)"
      ]
    },
    {
      "cell_type": "code",
      "execution_count": null,
      "id": "cc8a763b",
      "metadata": {
        "id": "cc8a763b",
        "outputId": "027abba0-c655-49d1-b264-99f3df796635"
      },
      "outputs": [
        {
          "ename": "SyntaxError",
          "evalue": "invalid syntax (1781950514.py, line 1)",
          "output_type": "error",
          "traceback": [
            "\u001b[0;36m  Cell \u001b[0;32mIn[1], line 1\u001b[0;36m\u001b[0m\n\u001b[0;31m    if=1\u001b[0m\n\u001b[0m      ^\u001b[0m\n\u001b[0;31mSyntaxError\u001b[0m\u001b[0;31m:\u001b[0m invalid syntax\n"
          ]
        }
      ],
      "source": [
        "if=1"
      ]
    },
    {
      "cell_type": "code",
      "execution_count": null,
      "id": "dc8d59b3",
      "metadata": {
        "id": "dc8d59b3",
        "outputId": "20ed5a3c-3dba-4560-fd92-9baa0b6ec3b9"
      },
      "outputs": [
        {
          "ename": "SyntaxError",
          "evalue": "invalid syntax (535306765.py, line 1)",
          "output_type": "error",
          "traceback": [
            "\u001b[0;36m  Cell \u001b[0;32mIn[2], line 1\u001b[0;36m\u001b[0m\n\u001b[0;31m    if = 1\u001b[0m\n\u001b[0m       ^\u001b[0m\n\u001b[0;31mSyntaxError\u001b[0m\u001b[0;31m:\u001b[0m invalid syntax\n"
          ]
        }
      ],
      "source": [
        "if = 1"
      ]
    },
    {
      "cell_type": "code",
      "execution_count": null,
      "id": "27a69299",
      "metadata": {
        "id": "27a69299"
      },
      "outputs": [],
      "source": [
        "x=100\n",
        "y=x"
      ]
    },
    {
      "cell_type": "code",
      "execution_count": null,
      "id": "2a90bc89",
      "metadata": {
        "id": "2a90bc89",
        "outputId": "7a1b25ca-d0ea-4294-9e1a-66b4748ebff0"
      },
      "outputs": [
        {
          "data": {
            "text/plain": [
              "(100, 100)"
            ]
          },
          "execution_count": 4,
          "metadata": {},
          "output_type": "execute_result"
        }
      ],
      "source": [
        "x, y"
      ]
    },
    {
      "cell_type": "code",
      "execution_count": null,
      "id": "a84ccf0e",
      "metadata": {
        "id": "a84ccf0e",
        "outputId": "b9712c34-dac9-452f-ce38-ae56ece8d491"
      },
      "outputs": [
        {
          "data": {
            "text/plain": [
              "4370067768"
            ]
          },
          "execution_count": 5,
          "metadata": {},
          "output_type": "execute_result"
        }
      ],
      "source": [
        "id(x)"
      ]
    },
    {
      "cell_type": "code",
      "execution_count": null,
      "id": "e7805078",
      "metadata": {
        "id": "e7805078",
        "outputId": "c75a29b2-40b3-4a1c-99d1-51f7bb5285f4"
      },
      "outputs": [
        {
          "data": {
            "text/plain": [
              "4370067768"
            ]
          },
          "execution_count": 6,
          "metadata": {},
          "output_type": "execute_result"
        }
      ],
      "source": [
        "id(y)"
      ]
    },
    {
      "cell_type": "code",
      "execution_count": null,
      "id": "3c3fc115",
      "metadata": {
        "id": "3c3fc115",
        "outputId": "33d1938a-963a-44a8-a2fe-36a323277ad4"
      },
      "outputs": [
        {
          "data": {
            "text/plain": [
              "4370064888"
            ]
          },
          "execution_count": 7,
          "metadata": {},
          "output_type": "execute_result"
        }
      ],
      "source": [
        "id(10)"
      ]
    },
    {
      "cell_type": "code",
      "execution_count": null,
      "id": "3e5832c0",
      "metadata": {
        "id": "3e5832c0"
      },
      "outputs": [],
      "source": [
        "s='Hi, Kim'"
      ]
    },
    {
      "cell_type": "code",
      "execution_count": null,
      "id": "a7db117c",
      "metadata": {
        "id": "a7db117c"
      },
      "outputs": [],
      "source": [
        "s1=s"
      ]
    },
    {
      "cell_type": "code",
      "execution_count": null,
      "id": "08bfb89e",
      "metadata": {
        "id": "08bfb89e",
        "outputId": "8799a733-8f56-4f09-94be-a590bab30bef"
      },
      "outputs": [
        {
          "data": {
            "text/plain": [
              "4425892464"
            ]
          },
          "execution_count": 10,
          "metadata": {},
          "output_type": "execute_result"
        }
      ],
      "source": [
        "id(s)"
      ]
    },
    {
      "cell_type": "code",
      "execution_count": null,
      "id": "74e2847a",
      "metadata": {
        "id": "74e2847a",
        "outputId": "feb9ce3d-11f5-4439-e83f-2da03dede356"
      },
      "outputs": [
        {
          "data": {
            "text/plain": [
              "4425892464"
            ]
          },
          "execution_count": 11,
          "metadata": {},
          "output_type": "execute_result"
        }
      ],
      "source": [
        "id(s1)"
      ]
    },
    {
      "cell_type": "code",
      "execution_count": null,
      "id": "a9f8b969",
      "metadata": {
        "id": "a9f8b969"
      },
      "outputs": [],
      "source": [
        "s1='HI, kIM'"
      ]
    },
    {
      "cell_type": "code",
      "execution_count": null,
      "id": "c471c48b",
      "metadata": {
        "id": "c471c48b",
        "outputId": "129bcc81-7fbe-4b87-ab02-d4a77ec25ebf"
      },
      "outputs": [
        {
          "data": {
            "text/plain": [
              "4425813936"
            ]
          },
          "execution_count": 13,
          "metadata": {},
          "output_type": "execute_result"
        }
      ],
      "source": [
        "id(s1)"
      ]
    },
    {
      "cell_type": "code",
      "execution_count": null,
      "id": "26cf1d61",
      "metadata": {
        "id": "26cf1d61"
      },
      "outputs": [],
      "source": [
        "x=100\n",
        "y=x"
      ]
    },
    {
      "cell_type": "code",
      "execution_count": null,
      "id": "1e6b1700",
      "metadata": {
        "id": "1e6b1700",
        "outputId": "4fb4f749-2e64-41d7-9b9c-9d5c1c52df86"
      },
      "outputs": [
        {
          "data": {
            "text/plain": [
              "True"
            ]
          },
          "execution_count": 15,
          "metadata": {},
          "output_type": "execute_result"
        }
      ],
      "source": [
        "id(x) == id(y)"
      ]
    },
    {
      "cell_type": "code",
      "execution_count": null,
      "id": "2769856e",
      "metadata": {
        "id": "2769856e"
      },
      "outputs": [],
      "source": [
        "x=x+1"
      ]
    },
    {
      "cell_type": "code",
      "execution_count": null,
      "id": "859189e0",
      "metadata": {
        "id": "859189e0",
        "outputId": "b7dbe485-b519-4e3b-8003-aca8b7f5b21c"
      },
      "outputs": [
        {
          "data": {
            "text/plain": [
              "False"
            ]
          },
          "execution_count": 17,
          "metadata": {},
          "output_type": "execute_result"
        }
      ],
      "source": [
        "id(x) == id(y)"
      ]
    },
    {
      "cell_type": "markdown",
      "id": "5340876d",
      "metadata": {
        "id": "5340876d"
      },
      "source": [
        "# Shallow copy / deep copy"
      ]
    },
    {
      "cell_type": "code",
      "execution_count": null,
      "id": "c6a49795",
      "metadata": {
        "id": "c6a49795"
      },
      "outputs": [],
      "source": [
        "s=list('Hi, Kim')\n",
        "s1=s"
      ]
    },
    {
      "cell_type": "code",
      "execution_count": null,
      "id": "4c7a730d",
      "metadata": {
        "id": "4c7a730d",
        "outputId": "5f83d7cd-e5f0-4156-8ead-948e000eb4e0"
      },
      "outputs": [
        {
          "data": {
            "text/plain": [
              "True"
            ]
          },
          "execution_count": 19,
          "metadata": {},
          "output_type": "execute_result"
        }
      ],
      "source": [
        "id(s) == id(s1)"
      ]
    },
    {
      "cell_type": "code",
      "execution_count": null,
      "id": "f59965a5",
      "metadata": {
        "id": "f59965a5",
        "outputId": "ce89ddc6-a685-437f-8b99-584945625b14"
      },
      "outputs": [
        {
          "data": {
            "text/plain": [
              "'K'"
            ]
          },
          "execution_count": 20,
          "metadata": {},
          "output_type": "execute_result"
        }
      ],
      "source": [
        "s[4]"
      ]
    },
    {
      "cell_type": "code",
      "execution_count": null,
      "id": "1142cff3",
      "metadata": {
        "id": "1142cff3",
        "outputId": "4efaeefe-4070-4193-8ca6-23d9f16186af"
      },
      "outputs": [
        {
          "data": {
            "text/plain": [
              "['H', 'i', ',', ' ', 'L', 'i', 'm']"
            ]
          },
          "execution_count": 21,
          "metadata": {},
          "output_type": "execute_result"
        }
      ],
      "source": [
        "s[4]='L'; s"
      ]
    },
    {
      "cell_type": "code",
      "execution_count": null,
      "id": "c26543b6",
      "metadata": {
        "id": "c26543b6"
      },
      "outputs": [],
      "source": [
        "s.append(\"KKK\")"
      ]
    },
    {
      "cell_type": "code",
      "execution_count": null,
      "id": "cbbecd13",
      "metadata": {
        "id": "cbbecd13",
        "outputId": "3864e321-a257-4a4c-81c3-6006c450d685"
      },
      "outputs": [
        {
          "data": {
            "text/plain": [
              "['H', 'i', ',', ' ', 'L', 'i', 'm', 'KKK']"
            ]
          },
          "execution_count": 23,
          "metadata": {},
          "output_type": "execute_result"
        }
      ],
      "source": [
        "s1"
      ]
    },
    {
      "cell_type": "code",
      "execution_count": null,
      "id": "f1797ef3",
      "metadata": {
        "id": "f1797ef3",
        "outputId": "3223be36-7ab3-4976-8f32-48e50aadf246"
      },
      "outputs": [
        {
          "data": {
            "text/plain": [
              "['H', 'i', ',', ' ', 'L', 'i', 'm', 'KKK']"
            ]
          },
          "execution_count": 24,
          "metadata": {},
          "output_type": "execute_result"
        }
      ],
      "source": [
        "s"
      ]
    },
    {
      "cell_type": "code",
      "execution_count": null,
      "id": "b27b9bc0",
      "metadata": {
        "id": "b27b9bc0"
      },
      "outputs": [],
      "source": [
        "s=list('Hi, Kim')\n",
        "s1=list('Hi, Kim')\n",
        "s[4]='L'\n",
        "s.append(\"KKK\")"
      ]
    },
    {
      "cell_type": "code",
      "execution_count": null,
      "id": "ce8f3bb1",
      "metadata": {
        "id": "ce8f3bb1",
        "outputId": "557a9b4d-e26b-429e-b80c-7c8e89a9301f"
      },
      "outputs": [
        {
          "data": {
            "text/plain": [
              "['H', 'i', ',', ' ', 'K', 'i', 'm']"
            ]
          },
          "execution_count": 28,
          "metadata": {},
          "output_type": "execute_result"
        }
      ],
      "source": [
        "s1"
      ]
    },
    {
      "cell_type": "code",
      "execution_count": null,
      "id": "69249566",
      "metadata": {
        "id": "69249566",
        "outputId": "6b28dbaf-28d0-4161-91cc-1b14abf878f8"
      },
      "outputs": [
        {
          "data": {
            "text/plain": [
              "['H', 'i', ',', ' ', 'L', 'i', 'm', 'KKK']"
            ]
          },
          "execution_count": 29,
          "metadata": {},
          "output_type": "execute_result"
        }
      ],
      "source": [
        "s"
      ]
    },
    {
      "cell_type": "code",
      "execution_count": null,
      "id": "e2af3c34",
      "metadata": {
        "id": "e2af3c34"
      },
      "outputs": [],
      "source": [
        "from copy import deepcopy\n",
        "s=list('Hi, Kim')\n",
        "s1=deepcopy(s)\n",
        "s.append(\"KKK\")"
      ]
    },
    {
      "cell_type": "code",
      "execution_count": null,
      "id": "e7025310",
      "metadata": {
        "id": "e7025310",
        "outputId": "c3709897-2e13-4648-8ed8-977062ef8429"
      },
      "outputs": [
        {
          "data": {
            "text/plain": [
              "['H', 'i', ',', ' ', 'K', 'i', 'm', 'KKK']"
            ]
          },
          "execution_count": 31,
          "metadata": {},
          "output_type": "execute_result"
        }
      ],
      "source": [
        "s"
      ]
    },
    {
      "cell_type": "code",
      "execution_count": null,
      "id": "71e2f454",
      "metadata": {
        "id": "71e2f454",
        "outputId": "2f79d096-4bbb-4eee-d502-d3d1712e7bd9"
      },
      "outputs": [
        {
          "data": {
            "text/plain": [
              "['H', 'i', ',', ' ', 'K', 'i', 'm']"
            ]
          },
          "execution_count": 32,
          "metadata": {},
          "output_type": "execute_result"
        }
      ],
      "source": [
        "s1"
      ]
    },
    {
      "cell_type": "code",
      "execution_count": null,
      "id": "5940c95b",
      "metadata": {
        "id": "5940c95b"
      },
      "outputs": [],
      "source": [
        "x=[1,2,3]\n",
        "lst=[x,4,5]\n",
        "lst1=[x,4,5]\n",
        "lst[0][1]=5"
      ]
    },
    {
      "cell_type": "code",
      "execution_count": null,
      "id": "9cf84f0b",
      "metadata": {
        "id": "9cf84f0b",
        "outputId": "351e452e-d634-482a-e8cd-9373097b64b7"
      },
      "outputs": [
        {
          "data": {
            "text/plain": [
              "[1, 5, 3]"
            ]
          },
          "execution_count": 34,
          "metadata": {},
          "output_type": "execute_result"
        }
      ],
      "source": [
        "x"
      ]
    },
    {
      "cell_type": "code",
      "execution_count": null,
      "id": "93ce609c",
      "metadata": {
        "id": "93ce609c",
        "outputId": "3a16ec91-8ddd-48f4-c887-b194167ac17e"
      },
      "outputs": [
        {
          "data": {
            "text/plain": [
              "[[1, 5, 3], 4, 5]"
            ]
          },
          "execution_count": 35,
          "metadata": {},
          "output_type": "execute_result"
        }
      ],
      "source": [
        "lst1"
      ]
    },
    {
      "cell_type": "code",
      "execution_count": null,
      "id": "10e85eea",
      "metadata": {
        "id": "10e85eea"
      },
      "outputs": [],
      "source": [
        "lst[0][1]=5"
      ]
    },
    {
      "cell_type": "code",
      "execution_count": null,
      "id": "37aaa9e1",
      "metadata": {
        "id": "37aaa9e1",
        "outputId": "dabec923-1e59-4e08-ba73-452b89a6f9f5"
      },
      "outputs": [
        {
          "data": {
            "text/plain": [
              "[[1, 5, 3], 4, 5]"
            ]
          },
          "execution_count": 37,
          "metadata": {},
          "output_type": "execute_result"
        }
      ],
      "source": [
        "lst"
      ]
    },
    {
      "cell_type": "code",
      "execution_count": null,
      "id": "92e55e8f",
      "metadata": {
        "id": "92e55e8f",
        "outputId": "e1230143-e355-410b-aa62-910b77def83b"
      },
      "outputs": [
        {
          "data": {
            "text/plain": [
              "[1, 5, 3]"
            ]
          },
          "execution_count": 38,
          "metadata": {},
          "output_type": "execute_result"
        }
      ],
      "source": [
        "x"
      ]
    },
    {
      "cell_type": "code",
      "execution_count": null,
      "id": "92a83445",
      "metadata": {
        "id": "92a83445",
        "outputId": "4f0e1a05-cce7-4902-bcfb-883451f6cb1c"
      },
      "outputs": [
        {
          "data": {
            "text/plain": [
              "[[1, 5, 3], 4, 5]"
            ]
          },
          "execution_count": 39,
          "metadata": {},
          "output_type": "execute_result"
        }
      ],
      "source": [
        "lst1"
      ]
    },
    {
      "cell_type": "code",
      "execution_count": null,
      "id": "acce243f",
      "metadata": {
        "id": "acce243f"
      },
      "outputs": [],
      "source": [
        "x=[1,2,3]\n",
        "lst=[x,4,5]\n",
        "lst1=deepcopy(lst)\n",
        "lst[0][1]=5"
      ]
    },
    {
      "cell_type": "code",
      "execution_count": null,
      "id": "7391e0a1",
      "metadata": {
        "id": "7391e0a1",
        "outputId": "fa030719-a684-4624-ec16-cdf74bddd00c"
      },
      "outputs": [
        {
          "data": {
            "text/plain": [
              "[1, 5, 3]"
            ]
          },
          "execution_count": 41,
          "metadata": {},
          "output_type": "execute_result"
        }
      ],
      "source": [
        "x"
      ]
    },
    {
      "cell_type": "code",
      "execution_count": null,
      "id": "779bd605",
      "metadata": {
        "id": "779bd605",
        "outputId": "b42e520a-1d64-47b9-e2ac-661379156cb9"
      },
      "outputs": [
        {
          "data": {
            "text/plain": [
              "[[1, 5, 3], 4, 5]"
            ]
          },
          "execution_count": 42,
          "metadata": {},
          "output_type": "execute_result"
        }
      ],
      "source": [
        "lst"
      ]
    },
    {
      "cell_type": "code",
      "execution_count": null,
      "id": "6b8d6ea9",
      "metadata": {
        "id": "6b8d6ea9",
        "outputId": "db24abc0-6217-4518-81b5-26391e98f695"
      },
      "outputs": [
        {
          "data": {
            "text/plain": [
              "[[1, 2, 3], 4, 5]"
            ]
          },
          "execution_count": 43,
          "metadata": {},
          "output_type": "execute_result"
        }
      ],
      "source": [
        "lst1"
      ]
    },
    {
      "cell_type": "markdown",
      "id": "b469cb77",
      "metadata": {
        "id": "b469cb77"
      },
      "source": [
        "# Python 프로그램의 구성"
      ]
    },
    {
      "cell_type": "code",
      "execution_count": null,
      "id": "9d2fcd04",
      "metadata": {
        "id": "9d2fcd04",
        "outputId": "180f2942-e90f-4ef1-cb80-ebd31ade5f27"
      },
      "outputs": [
        {
          "data": {
            "text/plain": [
              "' 다음은\\n프린트 함수의\\n실행 예제입니다'"
            ]
          },
          "execution_count": 45,
          "metadata": {},
          "output_type": "execute_result"
        }
      ],
      "source": [
        "''' 다음은\n",
        "프린트 함수의\n",
        "실행 예제입니다'''"
      ]
    },
    {
      "cell_type": "code",
      "execution_count": null,
      "id": "3f47c589",
      "metadata": {
        "id": "3f47c589",
        "outputId": "0f7c4ea4-e77e-463a-fefd-8be65cd4ffad"
      },
      "outputs": [
        {
          "name": "stdout",
          "output_type": "stream",
          "text": [
            "안녕\n"
          ]
        }
      ],
      "source": [
        "print(\"안녕\") # 프린트 함수"
      ]
    },
    {
      "cell_type": "code",
      "execution_count": null,
      "id": "99381681",
      "metadata": {
        "id": "99381681"
      },
      "outputs": [],
      "source": [
        "def add_number(a,b): # 두 수의 합\n",
        "    return a+b"
      ]
    },
    {
      "cell_type": "code",
      "execution_count": null,
      "id": "4f3660c3",
      "metadata": {
        "id": "4f3660c3",
        "outputId": "3ed4c878-51b1-4034-ac58-f5719c5482fe"
      },
      "outputs": [
        {
          "name": "stdout",
          "output_type": "stream",
          "text": [
            "220\n"
          ]
        }
      ],
      "source": [
        "print(add_number(100,120))"
      ]
    },
    {
      "cell_type": "markdown",
      "id": "f818cb75",
      "metadata": {
        "id": "f818cb75"
      },
      "source": [
        "# 수치 연산자와 할당 연산자"
      ]
    },
    {
      "cell_type": "code",
      "execution_count": null,
      "id": "70c5ac81",
      "metadata": {
        "id": "70c5ac81"
      },
      "outputs": [],
      "source": [
        "x=20\n",
        "x+=5"
      ]
    },
    {
      "cell_type": "code",
      "execution_count": null,
      "id": "1f96fab9",
      "metadata": {
        "id": "1f96fab9",
        "outputId": "95def766-92ad-42b4-f7eb-db405c8ca06e"
      },
      "outputs": [
        {
          "data": {
            "text/plain": [
              "25"
            ]
          },
          "execution_count": 65,
          "metadata": {},
          "output_type": "execute_result"
        }
      ],
      "source": [
        "x"
      ]
    },
    {
      "cell_type": "code",
      "execution_count": null,
      "id": "6eb039c8",
      "metadata": {
        "id": "6eb039c8",
        "outputId": "87c5ea0b-b423-46ee-d211-4801e0e06e91"
      },
      "outputs": [
        {
          "data": {
            "text/plain": [
              "25"
            ]
          },
          "execution_count": 66,
          "metadata": {},
          "output_type": "execute_result"
        }
      ],
      "source": [
        "x"
      ]
    },
    {
      "cell_type": "code",
      "execution_count": null,
      "id": "6bd9c498",
      "metadata": {
        "id": "6bd9c498"
      },
      "outputs": [],
      "source": [
        "x-=10"
      ]
    },
    {
      "cell_type": "code",
      "execution_count": null,
      "id": "150fd233",
      "metadata": {
        "id": "150fd233",
        "outputId": "2c8a9cbf-b9fa-428b-aace-3c91ccfcb76a"
      },
      "outputs": [
        {
          "data": {
            "text/plain": [
              "15"
            ]
          },
          "execution_count": 68,
          "metadata": {},
          "output_type": "execute_result"
        }
      ],
      "source": [
        "x"
      ]
    },
    {
      "cell_type": "code",
      "execution_count": null,
      "id": "eab471e8",
      "metadata": {
        "id": "eab471e8"
      },
      "outputs": [],
      "source": [
        "x*=2"
      ]
    },
    {
      "cell_type": "code",
      "execution_count": null,
      "id": "0a39478e",
      "metadata": {
        "id": "0a39478e",
        "outputId": "660ff862-fa83-4fed-8c29-15bef9a9508c"
      },
      "outputs": [
        {
          "data": {
            "text/plain": [
              "30"
            ]
          },
          "execution_count": 70,
          "metadata": {},
          "output_type": "execute_result"
        }
      ],
      "source": [
        "x"
      ]
    },
    {
      "cell_type": "code",
      "execution_count": null,
      "id": "1cd5e835",
      "metadata": {
        "id": "1cd5e835"
      },
      "outputs": [],
      "source": [
        "x/=3"
      ]
    },
    {
      "cell_type": "code",
      "execution_count": null,
      "id": "ceebac26",
      "metadata": {
        "id": "ceebac26",
        "outputId": "598d9c17-f401-4da6-c87d-7ebb33b5ba06"
      },
      "outputs": [
        {
          "data": {
            "text/plain": [
              "10.0"
            ]
          },
          "execution_count": 72,
          "metadata": {},
          "output_type": "execute_result"
        }
      ],
      "source": [
        "x"
      ]
    },
    {
      "cell_type": "code",
      "execution_count": null,
      "id": "7d7baff5",
      "metadata": {
        "id": "7d7baff5",
        "outputId": "7073caaf-53c3-4b2b-e885-48e4b261d941"
      },
      "outputs": [
        {
          "data": {
            "text/plain": [
              "5.0"
            ]
          },
          "execution_count": 73,
          "metadata": {},
          "output_type": "execute_result"
        }
      ],
      "source": [
        "x//2"
      ]
    },
    {
      "cell_type": "code",
      "execution_count": null,
      "id": "6fef9a35",
      "metadata": {
        "id": "6fef9a35",
        "outputId": "7a4b90dc-0bce-43b5-cfe2-7d5196ebbfac"
      },
      "outputs": [
        {
          "data": {
            "text/plain": [
              "10.0"
            ]
          },
          "execution_count": 75,
          "metadata": {},
          "output_type": "execute_result"
        }
      ],
      "source": [
        "x"
      ]
    },
    {
      "cell_type": "code",
      "execution_count": null,
      "id": "859ba6be",
      "metadata": {
        "id": "859ba6be"
      },
      "outputs": [],
      "source": [
        "x//=2"
      ]
    },
    {
      "cell_type": "code",
      "execution_count": null,
      "id": "3dcb8030",
      "metadata": {
        "id": "3dcb8030",
        "outputId": "e67b62d7-df36-407c-fa80-2fbfb9643bfe"
      },
      "outputs": [
        {
          "data": {
            "text/plain": [
              "5.0"
            ]
          },
          "execution_count": 77,
          "metadata": {},
          "output_type": "execute_result"
        }
      ],
      "source": [
        "x"
      ]
    },
    {
      "cell_type": "code",
      "execution_count": null,
      "id": "ada5e197",
      "metadata": {
        "id": "ada5e197"
      },
      "outputs": [],
      "source": [
        "x=5"
      ]
    },
    {
      "cell_type": "code",
      "execution_count": null,
      "id": "8358913f",
      "metadata": {
        "id": "8358913f"
      },
      "outputs": [],
      "source": [
        "x*=2"
      ]
    },
    {
      "cell_type": "code",
      "execution_count": null,
      "id": "0508b690",
      "metadata": {
        "id": "0508b690",
        "outputId": "d5e8b346-b91b-4436-ddcc-6a724b345894"
      },
      "outputs": [
        {
          "data": {
            "text/plain": [
              "10"
            ]
          },
          "execution_count": 82,
          "metadata": {},
          "output_type": "execute_result"
        }
      ],
      "source": [
        "x"
      ]
    },
    {
      "cell_type": "code",
      "execution_count": null,
      "id": "b34e6f5a",
      "metadata": {
        "id": "b34e6f5a"
      },
      "outputs": [],
      "source": [
        "x//=2"
      ]
    },
    {
      "cell_type": "code",
      "execution_count": null,
      "id": "ea3053ca",
      "metadata": {
        "id": "ea3053ca",
        "outputId": "9655541d-768c-421a-adb6-12232af421ff"
      },
      "outputs": [
        {
          "data": {
            "text/plain": [
              "5"
            ]
          },
          "execution_count": 84,
          "metadata": {},
          "output_type": "execute_result"
        }
      ],
      "source": [
        "x"
      ]
    },
    {
      "cell_type": "code",
      "execution_count": null,
      "id": "1a1afdc7",
      "metadata": {
        "id": "1a1afdc7"
      },
      "outputs": [],
      "source": [
        "x*=2+5"
      ]
    },
    {
      "cell_type": "code",
      "execution_count": null,
      "id": "f05deeb0",
      "metadata": {
        "id": "f05deeb0"
      },
      "outputs": [],
      "source": [
        "x=30"
      ]
    },
    {
      "cell_type": "code",
      "execution_count": null,
      "id": "e20ba6e1",
      "metadata": {
        "id": "e20ba6e1"
      },
      "outputs": [],
      "source": [
        "x/=3"
      ]
    },
    {
      "cell_type": "code",
      "execution_count": null,
      "id": "e79b1555",
      "metadata": {
        "id": "e79b1555",
        "outputId": "1023a78e-af21-4ef0-a335-b1ec6c068771"
      },
      "outputs": [
        {
          "data": {
            "text/plain": [
              "10.0"
            ]
          },
          "execution_count": 92,
          "metadata": {},
          "output_type": "execute_result"
        }
      ],
      "source": [
        "x"
      ]
    },
    {
      "cell_type": "code",
      "execution_count": null,
      "id": "8fb9e2a3",
      "metadata": {
        "id": "8fb9e2a3"
      },
      "outputs": [],
      "source": [
        "x//=2"
      ]
    },
    {
      "cell_type": "code",
      "execution_count": null,
      "id": "a8631e34",
      "metadata": {
        "id": "a8631e34",
        "outputId": "391263ef-35f9-42fd-e0d2-8c9c019d0cd4"
      },
      "outputs": [
        {
          "data": {
            "text/plain": [
              "5.0"
            ]
          },
          "execution_count": 94,
          "metadata": {},
          "output_type": "execute_result"
        }
      ],
      "source": [
        "x"
      ]
    },
    {
      "cell_type": "code",
      "execution_count": null,
      "id": "a327b3ad",
      "metadata": {
        "id": "a327b3ad"
      },
      "outputs": [],
      "source": [
        "x*=2+5"
      ]
    },
    {
      "cell_type": "code",
      "execution_count": null,
      "id": "f84bdc16",
      "metadata": {
        "id": "f84bdc16",
        "outputId": "8f20d604-fd81-42f7-c9c0-a1298c1ddabb"
      },
      "outputs": [
        {
          "data": {
            "text/plain": [
              "35.0"
            ]
          },
          "execution_count": 96,
          "metadata": {},
          "output_type": "execute_result"
        }
      ],
      "source": [
        "x"
      ]
    },
    {
      "cell_type": "markdown",
      "id": "c13a2d70",
      "metadata": {
        "id": "c13a2d70"
      },
      "source": [
        "# 비교 연산자와 논리 연산자"
      ]
    },
    {
      "cell_type": "code",
      "execution_count": null,
      "id": "a5550250",
      "metadata": {
        "id": "a5550250"
      },
      "outputs": [],
      "source": [
        "score=85"
      ]
    },
    {
      "cell_type": "code",
      "execution_count": null,
      "id": "c2050d25",
      "metadata": {
        "id": "c2050d25",
        "outputId": "619e0a87-a414-434d-e29b-c171d8785676"
      },
      "outputs": [
        {
          "data": {
            "text/plain": [
              "True"
            ]
          },
          "execution_count": 98,
          "metadata": {},
          "output_type": "execute_result"
        }
      ],
      "source": [
        "80<=score<=90"
      ]
    },
    {
      "cell_type": "code",
      "execution_count": null,
      "id": "a8e44ac6",
      "metadata": {
        "id": "a8e44ac6",
        "outputId": "e030b52c-d44d-4b80-ae90-4dffaf433c29"
      },
      "outputs": [
        {
          "data": {
            "text/plain": [
              "True"
            ]
          },
          "execution_count": 99,
          "metadata": {},
          "output_type": "execute_result"
        }
      ],
      "source": [
        "(score>=80) and (score<=90)"
      ]
    },
    {
      "cell_type": "code",
      "execution_count": null,
      "id": "2b895bda",
      "metadata": {
        "id": "2b895bda",
        "outputId": "5d40ef5d-a380-4885-95e9-c690ea04eef3"
      },
      "outputs": [
        {
          "data": {
            "text/plain": [
              "True"
            ]
          },
          "execution_count": 100,
          "metadata": {},
          "output_type": "execute_result"
        }
      ],
      "source": [
        "(score>=80) & (score<=90)"
      ]
    },
    {
      "cell_type": "code",
      "execution_count": null,
      "id": "e5c128d1",
      "metadata": {
        "id": "e5c128d1",
        "outputId": "c74fc58a-ff4a-499c-aafd-2d93a5e29c04"
      },
      "outputs": [
        {
          "ename": "SyntaxError",
          "evalue": "invalid syntax (1670926733.py, line 1)",
          "output_type": "error",
          "traceback": [
            "\u001b[0;36m  Cell \u001b[0;32mIn[101], line 1\u001b[0;36m\u001b[0m\n\u001b[0;31m    (score>=80) && (score<=90)\u001b[0m\n\u001b[0m                 ^\u001b[0m\n\u001b[0;31mSyntaxError\u001b[0m\u001b[0;31m:\u001b[0m invalid syntax\n"
          ]
        }
      ],
      "source": [
        "(score>=80) && (score<=90)"
      ]
    },
    {
      "cell_type": "code",
      "execution_count": null,
      "id": "5b3ac53e",
      "metadata": {
        "id": "5b3ac53e"
      },
      "outputs": [],
      "source": [
        "lst=\"Hi, \"\n",
        "lst1=\"Hi, \""
      ]
    },
    {
      "cell_type": "code",
      "execution_count": null,
      "id": "4580778a",
      "metadata": {
        "id": "4580778a",
        "outputId": "bf1767ac-bd86-461b-ac27-836662ae5257"
      },
      "outputs": [
        {
          "data": {
            "text/plain": [
              "False"
            ]
          },
          "execution_count": 103,
          "metadata": {},
          "output_type": "execute_result"
        }
      ],
      "source": [
        "id(lst)==id(lst1)"
      ]
    },
    {
      "cell_type": "code",
      "execution_count": null,
      "id": "029e014c",
      "metadata": {
        "id": "029e014c",
        "outputId": "3e80828e-988a-4e54-ac07-d0bd798fc5d5"
      },
      "outputs": [
        {
          "data": {
            "text/plain": [
              "True"
            ]
          },
          "execution_count": 104,
          "metadata": {},
          "output_type": "execute_result"
        }
      ],
      "source": [
        "lst==lst1"
      ]
    },
    {
      "cell_type": "code",
      "execution_count": null,
      "id": "10648618",
      "metadata": {
        "id": "10648618",
        "outputId": "fa627318-37b0-46ae-a8fc-086997487b39"
      },
      "outputs": [
        {
          "data": {
            "text/plain": [
              "False"
            ]
          },
          "execution_count": 105,
          "metadata": {},
          "output_type": "execute_result"
        }
      ],
      "source": [
        "lst!=lst1"
      ]
    },
    {
      "cell_type": "markdown",
      "id": "f0eeb9bb",
      "metadata": {
        "id": "f0eeb9bb"
      },
      "source": [
        "# 비트 연산자"
      ]
    },
    {
      "cell_type": "code",
      "execution_count": null,
      "id": "58b4f7ed",
      "metadata": {
        "id": "58b4f7ed"
      },
      "outputs": [],
      "source": [
        "x=158"
      ]
    },
    {
      "cell_type": "code",
      "execution_count": null,
      "id": "ded5bf27",
      "metadata": {
        "id": "ded5bf27",
        "outputId": "a64a645c-0999-4047-c1d2-a7fa084ba57a"
      },
      "outputs": [
        {
          "data": {
            "text/plain": [
              "'0b10011110'"
            ]
          },
          "execution_count": 109,
          "metadata": {},
          "output_type": "execute_result"
        }
      ],
      "source": [
        "bin(x)"
      ]
    },
    {
      "cell_type": "code",
      "execution_count": null,
      "id": "6a41ae2c",
      "metadata": {
        "id": "6a41ae2c"
      },
      "outputs": [],
      "source": [
        "mask = 0b11\n",
        "mask=mask<<4"
      ]
    },
    {
      "cell_type": "code",
      "execution_count": null,
      "id": "1cbd1070",
      "metadata": {
        "id": "1cbd1070",
        "outputId": "6c8f49da-51e5-48e8-e615-0db5f7b2ce31"
      },
      "outputs": [
        {
          "data": {
            "text/plain": [
              "'0b110000'"
            ]
          },
          "execution_count": 112,
          "metadata": {},
          "output_type": "execute_result"
        }
      ],
      "source": [
        "bin(mask)"
      ]
    },
    {
      "cell_type": "code",
      "execution_count": null,
      "id": "e886eaaa",
      "metadata": {
        "id": "e886eaaa",
        "outputId": "430285fe-9239-4d4f-c7c6-ea4b990dc7cc"
      },
      "outputs": [
        {
          "data": {
            "text/plain": [
              "'0b1'"
            ]
          },
          "execution_count": 114,
          "metadata": {},
          "output_type": "execute_result"
        }
      ],
      "source": [
        "bin((x&mask)>>4)"
      ]
    },
    {
      "cell_type": "markdown",
      "id": "50ed3917",
      "metadata": {
        "id": "50ed3917"
      },
      "source": [
        "# 비트연산자(간단한 예제)"
      ]
    },
    {
      "cell_type": "code",
      "execution_count": null,
      "id": "405a462e",
      "metadata": {
        "id": "405a462e"
      },
      "outputs": [],
      "source": [
        "box1=[9,20,28,18,11]\n",
        "box2=[30,1,21,17,28]"
      ]
    },
    {
      "cell_type": "code",
      "execution_count": null,
      "id": "19b54e97",
      "metadata": {
        "id": "19b54e97",
        "outputId": "7c692837-bc91-4ca8-e76c-ac901589c72d"
      },
      "outputs": [
        {
          "name": "stdout",
          "output_type": "stream",
          "text": [
            "# # # # # \n",
            "\n",
            "#   #   # \n",
            "\n",
            "# # #   # \n",
            "\n",
            "#     # # \n",
            "\n",
            "# # # # # \n",
            "\n"
          ]
        }
      ],
      "source": [
        "for i in range(0,5):\n",
        "    x=box1[i] | box2[i]\n",
        "    for k in range(4,-1,-1):\n",
        "        if ((x>>k) % 2):\n",
        "            print('#', end=' ')\n",
        "        else:\n",
        "            print(' ', end=' ')\n",
        "    print('\\n')"
      ]
    },
    {
      "cell_type": "markdown",
      "id": "00c56568",
      "metadata": {
        "id": "00c56568"
      },
      "source": [
        "# 연산자 우선순위"
      ]
    },
    {
      "cell_type": "code",
      "execution_count": null,
      "id": "0ce7eb10",
      "metadata": {
        "id": "0ce7eb10",
        "outputId": "6ebca31a-cfe3-480a-b8c3-9acbff21b2fb"
      },
      "outputs": [
        {
          "data": {
            "text/plain": [
              "512"
            ]
          },
          "execution_count": 120,
          "metadata": {},
          "output_type": "execute_result"
        }
      ],
      "source": [
        "2**3**2"
      ]
    },
    {
      "cell_type": "code",
      "execution_count": null,
      "id": "065646af",
      "metadata": {
        "id": "065646af",
        "outputId": "3a2118c6-6084-4729-89b2-ebc39db3aee9"
      },
      "outputs": [
        {
          "data": {
            "text/plain": [
              "8"
            ]
          },
          "execution_count": 121,
          "metadata": {},
          "output_type": "execute_result"
        }
      ],
      "source": [
        "2**3"
      ]
    },
    {
      "cell_type": "code",
      "execution_count": null,
      "id": "7e871d1b",
      "metadata": {
        "id": "7e871d1b",
        "outputId": "a22569c6-6b25-4ee8-a835-f23fad3641dc"
      },
      "outputs": [
        {
          "data": {
            "text/plain": [
              "64"
            ]
          },
          "execution_count": 122,
          "metadata": {},
          "output_type": "execute_result"
        }
      ],
      "source": [
        "8**2"
      ]
    },
    {
      "cell_type": "code",
      "execution_count": null,
      "id": "d7471bc4",
      "metadata": {
        "id": "d7471bc4",
        "outputId": "351a7b36-eecd-4380-fedb-ebf9c0b9eca9"
      },
      "outputs": [
        {
          "data": {
            "text/plain": [
              "9"
            ]
          },
          "execution_count": 123,
          "metadata": {},
          "output_type": "execute_result"
        }
      ],
      "source": [
        "3**2"
      ]
    },
    {
      "cell_type": "code",
      "execution_count": null,
      "id": "6ac69f98",
      "metadata": {
        "id": "6ac69f98",
        "outputId": "e7f1b131-4538-46e7-81f4-b5141c88ca60"
      },
      "outputs": [
        {
          "data": {
            "text/plain": [
              "512"
            ]
          },
          "execution_count": 124,
          "metadata": {},
          "output_type": "execute_result"
        }
      ],
      "source": [
        "2**9"
      ]
    },
    {
      "cell_type": "code",
      "execution_count": null,
      "id": "4e6deb17",
      "metadata": {
        "id": "4e6deb17",
        "outputId": "4f430d97-4099-4815-9877-d5b207fdde17"
      },
      "outputs": [
        {
          "data": {
            "text/plain": [
              "64"
            ]
          },
          "execution_count": 125,
          "metadata": {},
          "output_type": "execute_result"
        }
      ],
      "source": [
        "(2**3)**2"
      ]
    },
    {
      "cell_type": "code",
      "execution_count": null,
      "id": "f5dbc1fd",
      "metadata": {
        "id": "f5dbc1fd",
        "outputId": "93547f01-3136-4ced-c86c-c86e77791c3b"
      },
      "outputs": [
        {
          "data": {
            "text/plain": [
              "26"
            ]
          },
          "execution_count": 126,
          "metadata": {},
          "output_type": "execute_result"
        }
      ],
      "source": [
        "8+3*5-7//2+3*2"
      ]
    },
    {
      "cell_type": "code",
      "execution_count": null,
      "id": "be1074bb",
      "metadata": {
        "id": "be1074bb",
        "outputId": "d95aa7df-1842-49cc-f3af-1ec1244be4c7"
      },
      "outputs": [
        {
          "data": {
            "text/plain": [
              "44"
            ]
          },
          "execution_count": 127,
          "metadata": {},
          "output_type": "execute_result"
        }
      ],
      "source": [
        "(8+3)*((5-7)//2+3)*2"
      ]
    },
    {
      "cell_type": "markdown",
      "id": "edd613b6",
      "metadata": {
        "id": "edd613b6"
      },
      "source": [
        "# 문자열 포매팅"
      ]
    },
    {
      "cell_type": "code",
      "execution_count": null,
      "id": "186599c9",
      "metadata": {
        "id": "186599c9",
        "outputId": "b82576cc-348e-4998-af1d-e7ce5c4941e9"
      },
      "outputs": [
        {
          "data": {
            "text/plain": [
              "'안녕, 파이썬~'"
            ]
          },
          "execution_count": 130,
          "metadata": {},
          "output_type": "execute_result"
        }
      ],
      "source": [
        "'안녕, '+'파이썬~'"
      ]
    },
    {
      "cell_type": "code",
      "execution_count": null,
      "id": "ac9b651d",
      "metadata": {
        "id": "ac9b651d",
        "outputId": "407694f6-dcc1-4f5e-a3ed-5fcd724bf9b8"
      },
      "outputs": [
        {
          "data": {
            "text/plain": [
              "'안녕,파이썬~'"
            ]
          },
          "execution_count": 131,
          "metadata": {},
          "output_type": "execute_result"
        }
      ],
      "source": [
        "'안녕,'+'파이썬~'"
      ]
    },
    {
      "cell_type": "code",
      "execution_count": null,
      "id": "409b0306",
      "metadata": {
        "id": "409b0306",
        "outputId": "ab8f8aa3-5a93-4113-dc44-4b2d7a51aa82"
      },
      "outputs": [
        {
          "data": {
            "text/plain": [
              "'Hi, python'"
            ]
          },
          "execution_count": 132,
          "metadata": {},
          "output_type": "execute_result"
        }
      ],
      "source": [
        "'Hi, %s' % 'python'"
      ]
    },
    {
      "cell_type": "code",
      "execution_count": null,
      "id": "e58a9ebb",
      "metadata": {
        "id": "e58a9ebb",
        "outputId": "dc3bf5a2-8c23-4d94-b8a8-7c7237ffc7e6"
      },
      "outputs": [
        {
          "data": {
            "text/plain": [
              "'사과가 3개 있어요'"
            ]
          },
          "execution_count": 134,
          "metadata": {},
          "output_type": "execute_result"
        }
      ],
      "source": [
        "'사과가 %d개 있어요' % 3"
      ]
    },
    {
      "cell_type": "code",
      "execution_count": null,
      "id": "8021191d",
      "metadata": {
        "id": "8021191d",
        "outputId": "98cb9293-64a2-4b66-af1c-aed611e373b4"
      },
      "outputs": [
        {
          "data": {
            "text/plain": [
              "'원주율은 3.140000입니다'"
            ]
          },
          "execution_count": 135,
          "metadata": {},
          "output_type": "execute_result"
        }
      ],
      "source": [
        "'원주율은 %f입니다' % 3.14"
      ]
    },
    {
      "cell_type": "code",
      "execution_count": null,
      "id": "c040a3cc",
      "metadata": {
        "id": "c040a3cc",
        "outputId": "e28f48ef-f0bc-4b51-fcd3-b40ac44d624a"
      },
      "outputs": [
        {
          "data": {
            "text/plain": [
              "'원주율은 3.140000e+00입니다'"
            ]
          },
          "execution_count": 136,
          "metadata": {},
          "output_type": "execute_result"
        }
      ],
      "source": [
        "'원주율은 %e입니다' % 3.14"
      ]
    },
    {
      "cell_type": "code",
      "execution_count": null,
      "id": "dce2feeb",
      "metadata": {
        "id": "dce2feeb",
        "outputId": "49ab5caf-4ba1-4260-a3f7-5d0bdc55c376"
      },
      "outputs": [
        {
          "data": {
            "text/plain": [
              "'I love Jane'"
            ]
          },
          "execution_count": 137,
          "metadata": {},
          "output_type": "execute_result"
        }
      ],
      "source": [
        "'%c love %s' % ('I', 'Jane')"
      ]
    },
    {
      "cell_type": "code",
      "execution_count": null,
      "id": "b7c82774",
      "metadata": {
        "id": "b7c82774",
        "outputId": "a690ae39-1a54-4b83-b5aa-d35a36bf16cb"
      },
      "outputs": [
        {
          "data": {
            "text/plain": [
              "'I like number 7'"
            ]
          },
          "execution_count": 138,
          "metadata": {},
          "output_type": "execute_result"
        }
      ],
      "source": [
        "'%c like number %d' %('I', 7)"
      ]
    },
    {
      "cell_type": "code",
      "execution_count": null,
      "id": "1d5351d4",
      "metadata": {
        "id": "1d5351d4",
        "outputId": "0549f401-c213-4bab-ca90-ec4ebd9c7946"
      },
      "outputs": [
        {
          "data": {
            "text/plain": [
              "'2 x 3.140000 = 6.280000'"
            ]
          },
          "execution_count": 139,
          "metadata": {},
          "output_type": "execute_result"
        }
      ],
      "source": [
        "'2 x %f = %f' %(3.14, 2*3.14)"
      ]
    },
    {
      "cell_type": "code",
      "execution_count": null,
      "id": "067462f1",
      "metadata": {
        "id": "067462f1",
        "outputId": "1c4430fc-b270-47d2-ba0e-3ba50c9a7224"
      },
      "outputs": [
        {
          "data": {
            "text/plain": [
              "'This is %%.'"
            ]
          },
          "execution_count": 141,
          "metadata": {},
          "output_type": "execute_result"
        }
      ],
      "source": [
        "'This is %%.'"
      ]
    },
    {
      "cell_type": "code",
      "execution_count": null,
      "id": "fd8c1337",
      "metadata": {
        "id": "fd8c1337",
        "outputId": "ba70c444-4c3f-456d-fc21-526199020a98"
      },
      "outputs": [
        {
          "data": {
            "text/plain": [
              "'This is %.'"
            ]
          },
          "execution_count": 142,
          "metadata": {},
          "output_type": "execute_result"
        }
      ],
      "source": [
        "'This is %.'"
      ]
    },
    {
      "cell_type": "code",
      "execution_count": null,
      "id": "b60d4dbe",
      "metadata": {
        "id": "b60d4dbe",
        "outputId": "077efff1-adb7-4a5d-e4ed-e6560116a93a"
      },
      "outputs": [
        {
          "data": {
            "text/plain": [
              "'첫 번째: a, 두 번째: b, 세 번째: c'"
            ]
          },
          "execution_count": 143,
          "metadata": {},
          "output_type": "execute_result"
        }
      ],
      "source": [
        "'첫 번째: {0}, 두 번째: {1}, 세 번째: {2}'.format('a','b','c')"
      ]
    },
    {
      "cell_type": "code",
      "execution_count": null,
      "id": "8f5d7b8f",
      "metadata": {
        "id": "8f5d7b8f",
        "outputId": "ba0f9efa-ed35-4bb7-a5b3-f721f4db3b84"
      },
      "outputs": [
        {
          "data": {
            "text/plain": [
              "'첫 번째: 1, 두 번째: 2, 세 번째: 3'"
            ]
          },
          "execution_count": 145,
          "metadata": {},
          "output_type": "execute_result"
        }
      ],
      "source": [
        "'첫 번째: {1}, 두 번째: {2}, 세 번째: {3}'.format(0,1,2,3,4)"
      ]
    },
    {
      "cell_type": "code",
      "execution_count": null,
      "id": "a6f2b6e3",
      "metadata": {
        "id": "a6f2b6e3",
        "outputId": "c0ac0999-9c7b-4744-c1c8-fc1c51f8015c"
      },
      "outputs": [
        {
          "data": {
            "text/plain": [
              "'첫 번째: 5, 두 번째: 4, 세 번째: 3'"
            ]
          },
          "execution_count": 147,
          "metadata": {},
          "output_type": "execute_result"
        }
      ],
      "source": [
        "'첫 번째: {5}, 두 번째: {4}, 세 번째: {3}'.format(0,1,2,3,4,5)"
      ]
    },
    {
      "cell_type": "code",
      "execution_count": null,
      "id": "d00c4749",
      "metadata": {
        "id": "d00c4749",
        "outputId": "2423bf5e-939a-48de-8590-cf6f556bd439"
      },
      "outputs": [
        {
          "data": {
            "text/plain": [
              "'첫 번째: f, 두 번째: e, 세 번째: d'"
            ]
          },
          "execution_count": 151,
          "metadata": {},
          "output_type": "execute_result"
        }
      ],
      "source": [
        "'첫 번째: {5}, 두 번째: {4}, 세 번째: {3}'.format('a','b','c','d','e','f')"
      ]
    },
    {
      "cell_type": "code",
      "execution_count": null,
      "id": "ccab189e",
      "metadata": {
        "id": "ccab189e",
        "outputId": "7a8c4a6d-dac8-456e-f1ce-d3f5bc3e67b3"
      },
      "outputs": [
        {
          "data": {
            "text/plain": [
              "'첫 번째: a, 두 번째: b, 세 번째: c'"
            ]
          },
          "execution_count": 152,
          "metadata": {},
          "output_type": "execute_result"
        }
      ],
      "source": [
        "'첫 번째: {}, 두 번째: {}, 세 번째: {}'.format('a','b','c')"
      ]
    },
    {
      "cell_type": "code",
      "execution_count": null,
      "id": "a5638b7c",
      "metadata": {
        "id": "a5638b7c",
        "outputId": "a0d32885-b2c3-4b94-9f3b-affc9c5f7d4b"
      },
      "outputs": [
        {
          "data": {
            "text/plain": [
              "'첫 번째: c, 두 번째: b, 세 번째: a'"
            ]
          },
          "execution_count": 153,
          "metadata": {},
          "output_type": "execute_result"
        }
      ],
      "source": [
        "'첫 번째: {2}, 두 번째: {1}, 세 번째: {0}'.format('a','b','c')"
      ]
    },
    {
      "cell_type": "code",
      "execution_count": null,
      "id": "83074aab",
      "metadata": {
        "id": "83074aab",
        "outputId": "01cfa51a-0370-4441-d95b-7c207fadb40f"
      },
      "outputs": [
        {
          "data": {
            "text/plain": [
              "'첫 번째: c, 두 번째: b, 세 번째: c'"
            ]
          },
          "execution_count": 154,
          "metadata": {},
          "output_type": "execute_result"
        }
      ],
      "source": [
        "'첫 번째: {2}, 두 번째: {1}, 세 번째: {2}'.format('a','b','c')"
      ]
    },
    {
      "cell_type": "code",
      "execution_count": null,
      "id": "25bf08be",
      "metadata": {
        "id": "25bf08be",
        "outputId": "df19da31-718a-4bda-946e-5e64406cd8b8"
      },
      "outputs": [
        {
          "data": {
            "text/plain": [
              "'이것은 1st, 저것은 2nd, 그리고 3rd'"
            ]
          },
          "execution_count": 155,
          "metadata": {},
          "output_type": "execute_result"
        }
      ],
      "source": [
        "'이것은 {첫번째}, 저것은 {두번째}, 그리고 {세번째}'.format(첫번째='1st',두번째='2nd',세번째='3rd')"
      ]
    },
    {
      "cell_type": "code",
      "execution_count": null,
      "id": "881094e1",
      "metadata": {
        "id": "881094e1",
        "outputId": "0d7047a2-eeb7-474b-88d6-dc601986673a"
      },
      "outputs": [
        {
          "data": {
            "text/plain": [
              "'이것은 2nd, 저것은 3rd, 그리고 1st'"
            ]
          },
          "execution_count": 157,
          "metadata": {},
          "output_type": "execute_result"
        }
      ],
      "source": [
        "'이것은 {두번째}, 저것은 {세번째}, 그리고 {첫번째}'.format(첫번째='1st',두번째='2nd',세번째='3rd')"
      ]
    },
    {
      "cell_type": "code",
      "execution_count": null,
      "id": "6eff5420",
      "metadata": {
        "id": "6eff5420",
        "outputId": "68d37a73-3edb-44b1-ce8e-0552daf36385"
      },
      "outputs": [
        {
          "data": {
            "text/plain": [
              "'이것은 2nd, 저것은 3rd, 그리고 2nd'"
            ]
          },
          "execution_count": 158,
          "metadata": {},
          "output_type": "execute_result"
        }
      ],
      "source": [
        "'이것은 {두번째}, 저것은 {세번째}, 그리고 {두번째}'.format(첫번째='1st',두번째='2nd',세번째='3rd')"
      ]
    },
    {
      "cell_type": "code",
      "execution_count": null,
      "id": "58d83b15",
      "metadata": {
        "id": "58d83b15",
        "outputId": "8a58d60f-ff1e-4bb1-b43f-0e620a9b0d76"
      },
      "outputs": [
        {
          "data": {
            "text/plain": [
              "'        Hi'"
            ]
          },
          "execution_count": 159,
          "metadata": {},
          "output_type": "execute_result"
        }
      ],
      "source": [
        "'%10s'%'Hi'"
      ]
    },
    {
      "cell_type": "code",
      "execution_count": null,
      "id": "4b8cbd9f",
      "metadata": {
        "id": "4b8cbd9f",
        "outputId": "89ea572c-f14e-4e42-8049-ed3a28c2f758"
      },
      "outputs": [
        {
          "data": {
            "text/plain": [
              "' Hi'"
            ]
          },
          "execution_count": 160,
          "metadata": {},
          "output_type": "execute_result"
        }
      ],
      "source": [
        "'%3s'%'Hi'"
      ]
    },
    {
      "cell_type": "code",
      "execution_count": null,
      "id": "43db6f25",
      "metadata": {
        "id": "43db6f25",
        "outputId": "f91ace0d-922b-4fb4-cf84-34998140925c"
      },
      "outputs": [
        {
          "data": {
            "text/plain": [
              "'Hi'"
            ]
          },
          "execution_count": 161,
          "metadata": {},
          "output_type": "execute_result"
        }
      ],
      "source": [
        "'%2s'%'Hi'"
      ]
    },
    {
      "cell_type": "code",
      "execution_count": null,
      "id": "fb495563",
      "metadata": {
        "id": "fb495563",
        "outputId": "9982d6c0-e67d-4934-a8e7-b684d046b09c"
      },
      "outputs": [
        {
          "data": {
            "text/plain": [
              "'Hi        '"
            ]
          },
          "execution_count": 162,
          "metadata": {},
          "output_type": "execute_result"
        }
      ],
      "source": [
        "'%-10s'%'Hi'"
      ]
    },
    {
      "cell_type": "code",
      "execution_count": null,
      "id": "82449f9e",
      "metadata": {
        "id": "82449f9e",
        "outputId": "c66a8d61-f5c4-45a2-8a35-44a430ddfaf1"
      },
      "outputs": [
        {
          "data": {
            "text/plain": [
              "'Hi        '"
            ]
          },
          "execution_count": 163,
          "metadata": {},
          "output_type": "execute_result"
        }
      ],
      "source": [
        "'Hi        '"
      ]
    },
    {
      "cell_type": "code",
      "execution_count": null,
      "id": "b96b4fc0",
      "metadata": {
        "id": "b96b4fc0",
        "outputId": "26301978-a86a-404d-e9e3-a73d2f3d034b"
      },
      "outputs": [
        {
          "data": {
            "text/plain": [
              "'   20'"
            ]
          },
          "execution_count": 164,
          "metadata": {},
          "output_type": "execute_result"
        }
      ],
      "source": [
        "'%5d'%20"
      ]
    },
    {
      "cell_type": "code",
      "execution_count": null,
      "id": "83fd29b7",
      "metadata": {
        "id": "83fd29b7",
        "outputId": "118b74e5-fe58-4951-d9f5-6bec6b8dce92"
      },
      "outputs": [
        {
          "data": {
            "text/plain": [
              "'00020'"
            ]
          },
          "execution_count": 165,
          "metadata": {},
          "output_type": "execute_result"
        }
      ],
      "source": [
        "'%05d'%20"
      ]
    },
    {
      "cell_type": "code",
      "execution_count": null,
      "id": "0aeb7b34",
      "metadata": {
        "id": "0aeb7b34",
        "outputId": "1642e461-36b5-4d1f-d338-bd6df4446b13"
      },
      "outputs": [
        {
          "data": {
            "text/plain": [
              "'Pi is 3.14'"
            ]
          },
          "execution_count": 166,
          "metadata": {},
          "output_type": "execute_result"
        }
      ],
      "source": [
        "'Pi is %3.2f'% 3.14"
      ]
    },
    {
      "cell_type": "code",
      "execution_count": null,
      "id": "e8cc7736",
      "metadata": {
        "id": "e8cc7736",
        "outputId": "9f788b70-d250-46be-c566-8c3b8c23945d"
      },
      "outputs": [
        {
          "data": {
            "text/plain": [
              "'Pi is 3.1400'"
            ]
          },
          "execution_count": 167,
          "metadata": {},
          "output_type": "execute_result"
        }
      ],
      "source": [
        "'Pi is %3.4f'% 3.14"
      ]
    },
    {
      "cell_type": "code",
      "execution_count": null,
      "id": "41dd34ed",
      "metadata": {
        "id": "41dd34ed",
        "outputId": "383fe8f2-6440-4744-96a5-8a52dca71909"
      },
      "outputs": [
        {
          "data": {
            "text/plain": [
              "'Pi is 3.14'"
            ]
          },
          "execution_count": 168,
          "metadata": {},
          "output_type": "execute_result"
        }
      ],
      "source": [
        "'Pi is %.2f'% 3.14"
      ]
    },
    {
      "cell_type": "code",
      "execution_count": null,
      "id": "51d1195f",
      "metadata": {
        "id": "51d1195f",
        "outputId": "ae988bd1-db34-485a-ea3b-45d2bcdb18aa"
      },
      "outputs": [
        {
          "data": {
            "text/plain": [
              "'Pi is 3.1400'"
            ]
          },
          "execution_count": 169,
          "metadata": {},
          "output_type": "execute_result"
        }
      ],
      "source": [
        "'Pi is %.4f'% 3.14"
      ]
    },
    {
      "cell_type": "code",
      "execution_count": null,
      "id": "e6240819",
      "metadata": {
        "id": "e6240819",
        "outputId": "5976c91f-f266-4676-ba70-28daf6ea7666"
      },
      "outputs": [
        {
          "data": {
            "text/plain": [
              "'Pi is +3.14'"
            ]
          },
          "execution_count": 170,
          "metadata": {},
          "output_type": "execute_result"
        }
      ],
      "source": [
        "'Pi is %+.2f'% 3.14"
      ]
    },
    {
      "cell_type": "code",
      "execution_count": null,
      "id": "d53a88cc",
      "metadata": {
        "id": "d53a88cc",
        "outputId": "af1d6779-31c9-4ccb-a17a-ff3c5b791864"
      },
      "outputs": [
        {
          "data": {
            "text/plain": [
              "'Market share is 93.8%'"
            ]
          },
          "execution_count": 171,
          "metadata": {},
          "output_type": "execute_result"
        }
      ],
      "source": [
        "'Market share is %.1f%%' % 93.76"
      ]
    },
    {
      "cell_type": "code",
      "execution_count": null,
      "id": "dc2d2237",
      "metadata": {
        "id": "dc2d2237",
        "outputId": "4c62b5d8-f29c-44e0-8185-6cf6033cb35d"
      },
      "outputs": [
        {
          "data": {
            "text/plain": [
              "'Market share is 93.7%'"
            ]
          },
          "execution_count": 172,
          "metadata": {},
          "output_type": "execute_result"
        }
      ],
      "source": [
        "'Market share is %.1f%%' % 93.71"
      ]
    },
    {
      "cell_type": "code",
      "execution_count": null,
      "id": "cfd0b0bc",
      "metadata": {
        "id": "cfd0b0bc",
        "outputId": "0b7e3766-6849-46e9-91f7-a2683396ce05"
      },
      "outputs": [
        {
          "data": {
            "text/plain": [
              "'Market share is 93.71%'"
            ]
          },
          "execution_count": 173,
          "metadata": {},
          "output_type": "execute_result"
        }
      ],
      "source": [
        "'Market share is %.2f%%' % 93.71"
      ]
    },
    {
      "cell_type": "code",
      "execution_count": null,
      "id": "db75eec5",
      "metadata": {
        "id": "db75eec5",
        "outputId": "c969a6af-9e80-4155-e79c-00e3fbd465c1"
      },
      "outputs": [
        {
          "ename": "ValueError",
          "evalue": "incomplete format",
          "output_type": "error",
          "traceback": [
            "\u001b[0;31m---------------------------------------------------------------------------\u001b[0m",
            "\u001b[0;31mValueError\u001b[0m                                Traceback (most recent call last)",
            "Cell \u001b[0;32mIn[175], line 1\u001b[0m\n\u001b[0;32m----> 1\u001b[0m \u001b[38;5;124m'\u001b[39m\u001b[38;5;124mMarket share is \u001b[39m\u001b[38;5;132;01m%.1f\u001b[39;00m\u001b[38;5;124m%\u001b[39m\u001b[38;5;124m'\u001b[39m \u001b[38;5;241m%\u001b[39m \u001b[38;5;241m93.76\u001b[39m\n",
            "\u001b[0;31mValueError\u001b[0m: incomplete format"
          ]
        }
      ],
      "source": [
        "'Market share is %.1f%' % 93.76"
      ]
    },
    {
      "cell_type": "code",
      "execution_count": null,
      "id": "041e3869",
      "metadata": {
        "id": "041e3869"
      },
      "outputs": [],
      "source": []
    }
  ],
  "metadata": {
    "kernelspec": {
      "display_name": "Python 3 (ipykernel)",
      "language": "python",
      "name": "python3"
    },
    "language_info": {
      "codemirror_mode": {
        "name": "ipython",
        "version": 3
      },
      "file_extension": ".py",
      "mimetype": "text/x-python",
      "name": "python",
      "nbconvert_exporter": "python",
      "pygments_lexer": "ipython3",
      "version": "3.11.5"
    },
    "colab": {
      "provenance": [],
      "include_colab_link": true
    }
  },
  "nbformat": 4,
  "nbformat_minor": 5
}